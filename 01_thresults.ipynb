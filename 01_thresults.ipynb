{
 "cells": [
  {
   "cell_type": "code",
   "execution_count": 1,
   "metadata": {},
   "outputs": [],
   "source": [
    "import pandas as pd\n",
    "import numpy as np\n",
    "import matplotlib.pyplot as plt\n",
    "import seaborn as sns\n",
    "import os\n",
    "import sys\n",
    "import torch\n",
    "import torch.nn as nn\n",
    "import torch.nn.functional as F\n",
    "sys.path.append('./data/')\n",
    "sys.path.append('./models/')\n",
    "from thmodel import *\n",
    "import pickle\n",
    "with open('./data/dict_data_final.pkl', 'rb') as f:\n",
    "    data = pickle.load(f)"
   ]
  },
  {
   "attachments": {},
   "cell_type": "markdown",
   "metadata": {},
   "source": [
    "# Datos $(x, y)$"
   ]
  },
  {
   "cell_type": "code",
   "execution_count": 2,
   "metadata": {},
   "outputs": [],
   "source": [
    "x, y = data['Beneixama']"
   ]
  },
  {
   "attachments": {},
   "cell_type": "markdown",
   "metadata": {},
   "source": [
    "# Parámetros"
   ]
  },
  {
   "cell_type": "code",
   "execution_count": 3,
   "metadata": {},
   "outputs": [],
   "source": [
    "list_P = [\n",
    "    [0, 0.1, 0.5, 0.9, 1.01],\n",
    "    [0, 0.1, 0.3, 0.5, 0.7, 0.9, 1.01],\n",
    "    [0, 0.1, 0.2, 0.3, 0.4, 0.5, 0.6, 0.7, 0.8, 0.9, 1.01],\n",
    "]"
   ]
  },
  {
   "cell_type": "code",
   "execution_count": 4,
   "metadata": {},
   "outputs": [],
   "source": [
    "P = list_P[1]"
   ]
  },
  {
   "attachments": {},
   "cell_type": "markdown",
   "metadata": {},
   "source": [
    "# Resultados"
   ]
  },
  {
   "cell_type": "code",
   "execution_count": 5,
   "metadata": {},
   "outputs": [],
   "source": [
    "grid = Grid(x=x, y=y, mode='gumbel')\n",
    "grid.initialize(part=P)\n",
    "grid.compute_th_param(grad=True)\n",
    "grid.submatrix()\n",
    "grid.enlargement_process()\n",
    "grid.montecarlo(n_it=100)"
   ]
  },
  {
   "cell_type": "code",
   "execution_count": 6,
   "metadata": {},
   "outputs": [
    {
     "data": {
      "text/plain": [
       "<matplotlib.image.AxesImage at 0x2af8512f640>"
      ]
     },
     "execution_count": 6,
     "metadata": {},
     "output_type": "execute_result"
    },
    {
     "data": {
      "image/png": "[encoded data removed]",
      "text/plain": [
       "<Figure size 432x288 with 1 Axes>"
      ]
     },
     "metadata": {
      "needs_background": "light"
     },
     "output_type": "display_data"
    }
   ],
   "source": [
    "plt.imshow(grid.X0[:,:, -1].detach().numpy())"
   ]
  },
  {
   "attachments": {},
   "cell_type": "markdown",
   "metadata": {},
   "source": [
    "# Resultados para la tabla del paper"
   ]
  },
  {
   "cell_type": "code",
   "execution_count": 18,
   "metadata": {},
   "outputs": [],
   "source": [
    "def CreateTable(x, y, list_P, list_alpha, list_beta, list_gamma, mode='bernoulli'):\n",
    "    \n",
    "    from sklearn.metrics import confusion_matrix, f1_score, accuracy_score, matthews_corrcoef\n",
    "\n",
    "    columns = ['FP rate', 'FN rate', 'Accuracy', 'F1-score', 'MCC', 'Mean C', 'Median C']\n",
    "    size_rows = len(list_alpha) * len(list_beta) * len(list_gamma) * len(list_P)\n",
    "    size_cols = len(columns) \n",
    "    df = pd.DataFrame(np.zeros((size_rows, size_cols)), columns=columns)\n",
    "\n",
    "    ind = 0\n",
    "\n",
    "    for p in list_P:\n",
    "        for a in list_alpha:\n",
    "            for b in list_beta:\n",
    "                for c in list_gamma:\n",
    "\n",
    "                    print('Iteración:   ', ind)\n",
    "                    \n",
    "                    grid = Grid(x=x, y=y, mode=mode)\n",
    "                    grid.initialize(part=p)\n",
    "                    grid.compute_th_param(alpha=a, beta=b, gamma=c)\n",
    "                    grid.submatrix()\n",
    "                    grid.enlargement_process()\n",
    "                    grid.montecarlo(n_it=100)\n",
    "\n",
    "                    X = (grid.X[:, :, -1].numpy() != 0)*1\n",
    "                    Y = (y[:, :, -1] != 0)*1\n",
    "\n",
    "                    cmat = confusion_matrix(Y.flatten(), X.flatten(), normalize='true')\n",
    "\n",
    "                    df.iloc[ind] = [\n",
    "                        cmat[0,1],\n",
    "                        cmat[1,0],\n",
    "                        accuracy_score(Y.flatten(), X.flatten()),\n",
    "                        f1_score(Y.flatten(), X.flatten()),\n",
    "                        matthews_corrcoef(Y.flatten(), X.flatten()),\n",
    "                        grid.div.mean().item(),\n",
    "                        grid.div.median().item()\n",
    "                    ]\n",
    "\n",
    "                    ind += 1\n",
    "    \n",
    "    df['Sum metrics'] = df['Accuracy'] + df['F1-score'] + df['MCC']\n",
    "\n",
    "    return df"
   ]
  },
  {
   "attachments": {},
   "cell_type": "markdown",
   "metadata": {},
   "source": [
    "## Tablas sobre los parámetros"
   ]
  },
  {
   "cell_type": "code",
   "execution_count": 19,
   "metadata": {},
   "outputs": [],
   "source": [
    "list_P = [\n",
    "    [0, 0.1, 0.5, 0.9, 1.01],\n",
    "    [0, 0.1, 0.3, 0.5, 0.7, 0.9, 1.01],\n",
    "    [0, 0.1, 0.2, 0.3, 0.4, 0.5, 0.6, 0.7, 0.8, 0.9, 1.01],\n",
    "]\n",
    "\n",
    "list_alpha = [0.8, 1., 1.2]\n",
    "list_beta = [0.8, 1., 1.2]\n",
    "list_gamma = [0.8, 1., 1.2]"
   ]
  },
  {
   "cell_type": "code",
   "execution_count": 20,
   "metadata": {},
   "outputs": [
    {
     "name": "stdout",
     "output_type": "stream",
     "text": [
      "Iteración:    0\n",
      "Iteración:    1\n",
      "Iteración:    2\n",
      "Iteración:    3\n",
      "Iteración:    4\n",
      "Iteración:    5\n",
      "Iteración:    6\n",
      "Iteración:    7\n",
      "Iteración:    8\n",
      "Iteración:    9\n",
      "Iteración:    10\n",
      "Iteración:    11\n",
      "Iteración:    12\n",
      "Iteración:    13\n",
      "Iteración:    14\n",
      "Iteración:    15\n",
      "Iteración:    16\n",
      "Iteración:    17\n",
      "Iteración:    18\n",
      "Iteración:    19\n",
      "Iteración:    20\n",
      "Iteración:    21\n",
      "Iteración:    22\n",
      "Iteración:    23\n",
      "Iteración:    24\n",
      "Iteración:    25\n",
      "Iteración:    26\n",
      "Iteración:    27\n",
      "Iteración:    28\n",
      "Iteración:    29\n",
      "Iteración:    30\n",
      "Iteración:    31\n",
      "Iteración:    32\n",
      "Iteración:    33\n",
      "Iteración:    34\n",
      "Iteración:    35\n",
      "Iteración:    36\n",
      "Iteración:    37\n",
      "Iteración:    38\n",
      "Iteración:    39\n",
      "Iteración:    40\n",
      "Iteración:    41\n",
      "Iteración:    42\n",
      "Iteración:    43\n",
      "Iteración:    44\n",
      "Iteración:    45\n",
      "Iteración:    46\n",
      "Iteración:    47\n",
      "Iteración:    48\n",
      "Iteración:    49\n",
      "Iteración:    50\n",
      "Iteración:    51\n",
      "Iteración:    52\n",
      "Iteración:    53\n",
      "Iteración:    54\n",
      "Iteración:    55\n",
      "Iteración:    56\n",
      "Iteración:    57\n",
      "Iteración:    58\n",
      "Iteración:    59\n",
      "Iteración:    60\n",
      "Iteración:    61\n",
      "Iteración:    62\n",
      "Iteración:    63\n",
      "Iteración:    64\n",
      "Iteración:    65\n",
      "Iteración:    66\n",
      "Iteración:    67\n",
      "Iteración:    68\n",
      "Iteración:    69\n",
      "Iteración:    70\n",
      "Iteración:    71\n",
      "Iteración:    72\n",
      "Iteración:    73\n",
      "Iteración:    74\n",
      "Iteración:    75\n",
      "Iteración:    76\n",
      "Iteración:    77\n",
      "Iteración:    78\n",
      "Iteración:    79\n",
      "Iteración:    80\n"
     ]
    }
   ],
   "source": [
    "df_metrics = CreateTable(x, y, list_P, list_alpha, list_beta, list_gamma)"
   ]
  },
  {
   "cell_type": "code",
   "execution_count": 61,
   "metadata": {},
   "outputs": [],
   "source": [
    "df_metrics.to_csv('thmodel_metrics.csv')"
   ]
  },
  {
   "attachments": {},
   "cell_type": "markdown",
   "metadata": {},
   "source": [
    "# Creamos el dataframe de los parámetros para los join"
   ]
  },
  {
   "cell_type": "code",
   "execution_count": 26,
   "metadata": {},
   "outputs": [],
   "source": [
    "columns = ['Part', 'Alpha', 'Beta', 'Gamma']\n",
    "size_rows = len(list_alpha) * len(list_beta) * len(list_gamma) * len(list_P)\n",
    "size_cols = len(columns) "
   ]
  },
  {
   "cell_type": "code",
   "execution_count": 27,
   "metadata": {},
   "outputs": [],
   "source": [
    "df_param = pd.DataFrame(np.zeros((size_rows, size_cols)), columns=columns)\n",
    "\n",
    "########\n",
    "ind = 0\n",
    "########\n",
    "i = 0\n",
    "for p in list_P:\n",
    "    j = 0\n",
    "    for a in list_alpha:\n",
    "        k = 0\n",
    "        for b in list_beta:\n",
    "            l = 0\n",
    "            for c in list_gamma:\n",
    "                df_param.iloc[ind] = [i, j, k, l]\n",
    "                l += 1\n",
    "                ind += 1\n",
    "            k += 1\n",
    "        j += 1\n",
    "    i += 1\n"
   ]
  },
  {
   "cell_type": "code",
   "execution_count": 48,
   "metadata": {},
   "outputs": [
    {
     "name": "stdout",
     "output_type": "stream",
     "text": [
      "20 Partition:    [0, 0.1, 0.5, 0.9, 1.01] Alpha:    1.2 Beta:     0.8 Gamma:     1.2\n",
      "19 Partition:    [0, 0.1, 0.5, 0.9, 1.01] Alpha:    1.2 Beta:     0.8 Gamma:     1.0\n",
      "21 Partition:    [0, 0.1, 0.5, 0.9, 1.01] Alpha:    1.2 Beta:     1.0 Gamma:     0.8\n",
      "23 Partition:    [0, 0.1, 0.5, 0.9, 1.01] Alpha:    1.2 Beta:     1.0 Gamma:     1.2\n",
      "22 Partition:    [0, 0.1, 0.5, 0.9, 1.01] Alpha:    1.2 Beta:     1.0 Gamma:     1.0\n",
      "10 Partition:    [0, 0.1, 0.5, 0.9, 1.01] Alpha:    1.0 Beta:     0.8 Gamma:     1.0\n",
      "11 Partition:    [0, 0.1, 0.5, 0.9, 1.01] Alpha:    1.0 Beta:     0.8 Gamma:     1.2\n",
      "9 Partition:    [0, 0.1, 0.5, 0.9, 1.01] Alpha:    1.0 Beta:     0.8 Gamma:     0.8\n",
      "18 Partition:    [0, 0.1, 0.5, 0.9, 1.01] Alpha:    1.2 Beta:     0.8 Gamma:     0.8\n",
      "0 Partition:    [0, 0.1, 0.5, 0.9, 1.01] Alpha:    0.8 Beta:     0.8 Gamma:     0.8\n",
      "24 Partition:    [0, 0.1, 0.5, 0.9, 1.01] Alpha:    1.2 Beta:     1.2 Gamma:     0.8\n",
      "1 Partition:    [0, 0.1, 0.5, 0.9, 1.01] Alpha:    0.8 Beta:     0.8 Gamma:     1.0\n",
      "12 Partition:    [0, 0.1, 0.5, 0.9, 1.01] Alpha:    1.0 Beta:     1.0 Gamma:     0.8\n",
      "13 Partition:    [0, 0.1, 0.5, 0.9, 1.01] Alpha:    1.0 Beta:     1.0 Gamma:     1.0\n",
      "25 Partition:    [0, 0.1, 0.5, 0.9, 1.01] Alpha:    1.2 Beta:     1.2 Gamma:     1.0\n",
      "26 Partition:    [0, 0.1, 0.5, 0.9, 1.01] Alpha:    1.2 Beta:     1.2 Gamma:     1.2\n",
      "14 Partition:    [0, 0.1, 0.5, 0.9, 1.01] Alpha:    1.0 Beta:     1.0 Gamma:     1.2\n",
      "2 Partition:    [0, 0.1, 0.5, 0.9, 1.01] Alpha:    0.8 Beta:     0.8 Gamma:     1.2\n",
      "31 Partition:    [0, 0.1, 0.3, 0.5, 0.7, 0.9, 1.01] Alpha:    0.8 Beta:     1.0 Gamma:     1.0\n",
      "3 Partition:    [0, 0.1, 0.5, 0.9, 1.01] Alpha:    0.8 Beta:     1.0 Gamma:     0.8\n",
      "32 Partition:    [0, 0.1, 0.3, 0.5, 0.7, 0.9, 1.01] Alpha:    0.8 Beta:     1.0 Gamma:     1.2\n",
      "43 Partition:    [0, 0.1, 0.3, 0.5, 0.7, 0.9, 1.01] Alpha:    1.0 Beta:     1.2 Gamma:     1.0\n",
      "59 Partition:    [0, 0.1, 0.2, 0.3, 0.4, 0.5, 0.6, 0.7, 0.8, 0.9, 1.01] Alpha:    0.8 Beta:     1.0 Gamma:     1.2\n",
      "30 Partition:    [0, 0.1, 0.3, 0.5, 0.7, 0.9, 1.01] Alpha:    0.8 Beta:     1.0 Gamma:     0.8\n",
      "15 Partition:    [0, 0.1, 0.5, 0.9, 1.01] Alpha:    1.0 Beta:     1.2 Gamma:     0.8\n",
      "44 Partition:    [0, 0.1, 0.3, 0.5, 0.7, 0.9, 1.01] Alpha:    1.0 Beta:     1.2 Gamma:     1.2\n",
      "29 Partition:    [0, 0.1, 0.3, 0.5, 0.7, 0.9, 1.01] Alpha:    0.8 Beta:     0.8 Gamma:     1.2\n",
      "42 Partition:    [0, 0.1, 0.3, 0.5, 0.7, 0.9, 1.01] Alpha:    1.0 Beta:     1.2 Gamma:     0.8\n",
      "41 Partition:    [0, 0.1, 0.3, 0.5, 0.7, 0.9, 1.01] Alpha:    1.0 Beta:     1.0 Gamma:     1.2\n",
      "4 Partition:    [0, 0.1, 0.5, 0.9, 1.01] Alpha:    0.8 Beta:     1.0 Gamma:     1.0\n",
      "53 Partition:    [0, 0.1, 0.3, 0.5, 0.7, 0.9, 1.01] Alpha:    1.2 Beta:     1.2 Gamma:     1.2\n",
      "58 Partition:    [0, 0.1, 0.2, 0.3, 0.4, 0.5, 0.6, 0.7, 0.8, 0.9, 1.01] Alpha:    0.8 Beta:     1.0 Gamma:     1.0\n",
      "71 Partition:    [0, 0.1, 0.2, 0.3, 0.4, 0.5, 0.6, 0.7, 0.8, 0.9, 1.01] Alpha:    1.0 Beta:     1.2 Gamma:     1.2\n",
      "28 Partition:    [0, 0.1, 0.3, 0.5, 0.7, 0.9, 1.01] Alpha:    0.8 Beta:     0.8 Gamma:     1.0\n",
      "16 Partition:    [0, 0.1, 0.5, 0.9, 1.01] Alpha:    1.0 Beta:     1.2 Gamma:     1.0\n",
      "52 Partition:    [0, 0.1, 0.3, 0.5, 0.7, 0.9, 1.01] Alpha:    1.2 Beta:     1.2 Gamma:     1.0\n",
      "40 Partition:    [0, 0.1, 0.3, 0.5, 0.7, 0.9, 1.01] Alpha:    1.0 Beta:     1.0 Gamma:     1.0\n",
      "70 Partition:    [0, 0.1, 0.2, 0.3, 0.4, 0.5, 0.6, 0.7, 0.8, 0.9, 1.01] Alpha:    1.0 Beta:     1.2 Gamma:     1.0\n",
      "60 Partition:    [0, 0.1, 0.2, 0.3, 0.4, 0.5, 0.6, 0.7, 0.8, 0.9, 1.01] Alpha:    0.8 Beta:     1.2 Gamma:     0.8\n",
      "33 Partition:    [0, 0.1, 0.3, 0.5, 0.7, 0.9, 1.01] Alpha:    0.8 Beta:     1.2 Gamma:     0.8\n",
      "17 Partition:    [0, 0.1, 0.5, 0.9, 1.01] Alpha:    1.0 Beta:     1.2 Gamma:     1.2\n",
      "57 Partition:    [0, 0.1, 0.2, 0.3, 0.4, 0.5, 0.6, 0.7, 0.8, 0.9, 1.01] Alpha:    0.8 Beta:     1.0 Gamma:     0.8\n",
      "5 Partition:    [0, 0.1, 0.5, 0.9, 1.01] Alpha:    0.8 Beta:     1.0 Gamma:     1.2\n",
      "51 Partition:    [0, 0.1, 0.3, 0.5, 0.7, 0.9, 1.01] Alpha:    1.2 Beta:     1.2 Gamma:     0.8\n",
      "27 Partition:    [0, 0.1, 0.3, 0.5, 0.7, 0.9, 1.01] Alpha:    0.8 Beta:     0.8 Gamma:     0.8\n",
      "39 Partition:    [0, 0.1, 0.3, 0.5, 0.7, 0.9, 1.01] Alpha:    1.0 Beta:     1.0 Gamma:     0.8\n",
      "61 Partition:    [0, 0.1, 0.2, 0.3, 0.4, 0.5, 0.6, 0.7, 0.8, 0.9, 1.01] Alpha:    0.8 Beta:     1.2 Gamma:     1.0\n",
      "69 Partition:    [0, 0.1, 0.2, 0.3, 0.4, 0.5, 0.6, 0.7, 0.8, 0.9, 1.01] Alpha:    1.0 Beta:     1.2 Gamma:     0.8\n",
      "34 Partition:    [0, 0.1, 0.3, 0.5, 0.7, 0.9, 1.01] Alpha:    0.8 Beta:     1.2 Gamma:     1.0\n",
      "6 Partition:    [0, 0.1, 0.5, 0.9, 1.01] Alpha:    0.8 Beta:     1.2 Gamma:     0.8\n",
      "38 Partition:    [0, 0.1, 0.3, 0.5, 0.7, 0.9, 1.01] Alpha:    1.0 Beta:     0.8 Gamma:     1.2\n",
      "50 Partition:    [0, 0.1, 0.3, 0.5, 0.7, 0.9, 1.01] Alpha:    1.2 Beta:     1.0 Gamma:     1.2\n",
      "62 Partition:    [0, 0.1, 0.2, 0.3, 0.4, 0.5, 0.6, 0.7, 0.8, 0.9, 1.01] Alpha:    0.8 Beta:     1.2 Gamma:     1.2\n",
      "49 Partition:    [0, 0.1, 0.3, 0.5, 0.7, 0.9, 1.01] Alpha:    1.2 Beta:     1.0 Gamma:     1.0\n",
      "35 Partition:    [0, 0.1, 0.3, 0.5, 0.7, 0.9, 1.01] Alpha:    0.8 Beta:     1.2 Gamma:     1.2\n",
      "37 Partition:    [0, 0.1, 0.3, 0.5, 0.7, 0.9, 1.01] Alpha:    1.0 Beta:     0.8 Gamma:     1.0\n",
      "7 Partition:    [0, 0.1, 0.5, 0.9, 1.01] Alpha:    0.8 Beta:     1.2 Gamma:     1.0\n",
      "48 Partition:    [0, 0.1, 0.3, 0.5, 0.7, 0.9, 1.01] Alpha:    1.2 Beta:     1.0 Gamma:     0.8\n",
      "36 Partition:    [0, 0.1, 0.3, 0.5, 0.7, 0.9, 1.01] Alpha:    1.0 Beta:     0.8 Gamma:     0.8\n",
      "56 Partition:    [0, 0.1, 0.2, 0.3, 0.4, 0.5, 0.6, 0.7, 0.8, 0.9, 1.01] Alpha:    0.8 Beta:     0.8 Gamma:     1.2\n",
      "47 Partition:    [0, 0.1, 0.3, 0.5, 0.7, 0.9, 1.01] Alpha:    1.2 Beta:     0.8 Gamma:     1.2\n",
      "46 Partition:    [0, 0.1, 0.3, 0.5, 0.7, 0.9, 1.01] Alpha:    1.2 Beta:     0.8 Gamma:     1.0\n",
      "45 Partition:    [0, 0.1, 0.3, 0.5, 0.7, 0.9, 1.01] Alpha:    1.2 Beta:     0.8 Gamma:     0.8\n",
      "8 Partition:    [0, 0.1, 0.5, 0.9, 1.01] Alpha:    0.8 Beta:     1.2 Gamma:     1.2\n",
      "68 Partition:    [0, 0.1, 0.2, 0.3, 0.4, 0.5, 0.6, 0.7, 0.8, 0.9, 1.01] Alpha:    1.0 Beta:     1.0 Gamma:     1.2\n",
      "80 Partition:    [0, 0.1, 0.2, 0.3, 0.4, 0.5, 0.6, 0.7, 0.8, 0.9, 1.01] Alpha:    1.2 Beta:     1.2 Gamma:     1.2\n",
      "55 Partition:    [0, 0.1, 0.2, 0.3, 0.4, 0.5, 0.6, 0.7, 0.8, 0.9, 1.01] Alpha:    0.8 Beta:     0.8 Gamma:     1.0\n",
      "67 Partition:    [0, 0.1, 0.2, 0.3, 0.4, 0.5, 0.6, 0.7, 0.8, 0.9, 1.01] Alpha:    1.0 Beta:     1.0 Gamma:     1.0\n",
      "79 Partition:    [0, 0.1, 0.2, 0.3, 0.4, 0.5, 0.6, 0.7, 0.8, 0.9, 1.01] Alpha:    1.2 Beta:     1.2 Gamma:     1.0\n",
      "54 Partition:    [0, 0.1, 0.2, 0.3, 0.4, 0.5, 0.6, 0.7, 0.8, 0.9, 1.01] Alpha:    0.8 Beta:     0.8 Gamma:     0.8\n",
      "66 Partition:    [0, 0.1, 0.2, 0.3, 0.4, 0.5, 0.6, 0.7, 0.8, 0.9, 1.01] Alpha:    1.0 Beta:     1.0 Gamma:     0.8\n",
      "78 Partition:    [0, 0.1, 0.2, 0.3, 0.4, 0.5, 0.6, 0.7, 0.8, 0.9, 1.01] Alpha:    1.2 Beta:     1.2 Gamma:     0.8\n",
      "77 Partition:    [0, 0.1, 0.2, 0.3, 0.4, 0.5, 0.6, 0.7, 0.8, 0.9, 1.01] Alpha:    1.2 Beta:     1.0 Gamma:     1.2\n",
      "65 Partition:    [0, 0.1, 0.2, 0.3, 0.4, 0.5, 0.6, 0.7, 0.8, 0.9, 1.01] Alpha:    1.0 Beta:     0.8 Gamma:     1.2\n",
      "76 Partition:    [0, 0.1, 0.2, 0.3, 0.4, 0.5, 0.6, 0.7, 0.8, 0.9, 1.01] Alpha:    1.2 Beta:     1.0 Gamma:     1.0\n",
      "64 Partition:    [0, 0.1, 0.2, 0.3, 0.4, 0.5, 0.6, 0.7, 0.8, 0.9, 1.01] Alpha:    1.0 Beta:     0.8 Gamma:     1.0\n",
      "75 Partition:    [0, 0.1, 0.2, 0.3, 0.4, 0.5, 0.6, 0.7, 0.8, 0.9, 1.01] Alpha:    1.2 Beta:     1.0 Gamma:     0.8\n",
      "63 Partition:    [0, 0.1, 0.2, 0.3, 0.4, 0.5, 0.6, 0.7, 0.8, 0.9, 1.01] Alpha:    1.0 Beta:     0.8 Gamma:     0.8\n",
      "74 Partition:    [0, 0.1, 0.2, 0.3, 0.4, 0.5, 0.6, 0.7, 0.8, 0.9, 1.01] Alpha:    1.2 Beta:     0.8 Gamma:     1.2\n",
      "73 Partition:    [0, 0.1, 0.2, 0.3, 0.4, 0.5, 0.6, 0.7, 0.8, 0.9, 1.01] Alpha:    1.2 Beta:     0.8 Gamma:     1.0\n",
      "72 Partition:    [0, 0.1, 0.2, 0.3, 0.4, 0.5, 0.6, 0.7, 0.8, 0.9, 1.01] Alpha:    1.2 Beta:     0.8 Gamma:     0.8\n"
     ]
    }
   ],
   "source": [
    "ind = np.argsort(df_metrics['Sum metrics'].values)[::-1]\n",
    "\n",
    "for m in ind:\n",
    "    i, j, k, l = df_param.iloc[m].values\n",
    "    i, j, k, l = int(i), int(j), int(k), int(l)\n",
    "    print(m, 'Partition:   ', list_P[i], 'Alpha:   ', list_alpha[j], 'Beta:    ', list_beta[k], 'Gamma:    ', list_gamma[l])"
   ]
  },
  {
   "attachments": {},
   "cell_type": "markdown",
   "metadata": {},
   "source": [
    "# Figuras"
   ]
  },
  {
   "cell_type": "code",
   "execution_count": 55,
   "metadata": {},
   "outputs": [
    {
     "data": {
      "text/plain": [
       "<matplotlib.image.AxesImage at 0x2afa3de83a0>"
      ]
     },
     "execution_count": 55,
     "metadata": {},
     "output_type": "execute_result"
    },
    {
     "data": {
      "image/png": "[encoded data removed]",
      "text/plain": [
       "<Figure size 432x288 with 1 Axes>"
      ]
     },
     "metadata": {
      "needs_background": "light"
     },
     "output_type": "display_data"
    }
   ],
   "source": [
    "p = list_P[0]\n",
    "a = list_alpha[-1]\n",
    "b = list_beta[0]\n",
    "c = list_gamma[-1]\n",
    "\n",
    "grid = Grid(x=x, y=y)\n",
    "grid.initialize(part=p)\n",
    "grid.compute_th_param(alpha=a, beta=b, gamma=c)\n",
    "grid.submatrix()\n",
    "grid.enlargement_process()\n",
    "grid.montecarlo(n_it=100)\n",
    "\n",
    "X = (grid.X[:, :, -1].numpy() != 0)*1\n",
    "Y = (y[:, :, -1] != 0)*1\n",
    "\n",
    "plt.imshow(X-Y)"
   ]
  },
  {
   "cell_type": "code",
   "execution_count": 56,
   "metadata": {},
   "outputs": [
    {
     "data": {
      "text/plain": [
       "<matplotlib.image.AxesImage at 0x2afa3e0f010>"
      ]
     },
     "execution_count": 56,
     "metadata": {},
     "output_type": "execute_result"
    },
    {
     "data": {
      "image/png": "[encoded data removed]",
      "text/plain": [
       "<Figure size 432x288 with 1 Axes>"
      ]
     },
     "metadata": {
      "needs_background": "light"
     },
     "output_type": "display_data"
    }
   ],
   "source": [
    "p = list_P[0]\n",
    "a = list_alpha[-1]\n",
    "b = list_beta[0]\n",
    "c = list_gamma[1]\n",
    "\n",
    "grid = Grid(x=x, y=y)\n",
    "grid.initialize(part=p)\n",
    "grid.compute_th_param(alpha=a, beta=b, gamma=c)\n",
    "grid.submatrix()\n",
    "grid.enlargement_process()\n",
    "grid.montecarlo(n_it=100)\n",
    "\n",
    "X = (grid.X[:, :, -1].numpy() != 0)*1\n",
    "Y = (y[:, :, -1] != 0)*1\n",
    "\n",
    "plt.imshow(X-Y)"
   ]
  },
  {
   "cell_type": "code",
   "execution_count": 57,
   "metadata": {},
   "outputs": [
    {
     "data": {
      "text/plain": [
       "<matplotlib.image.AxesImage at 0x2afa3e85420>"
      ]
     },
     "execution_count": 57,
     "metadata": {},
     "output_type": "execute_result"
    },
    {
     "data": {
      "image/png": "[encoded data removed]",
      "text/plain": [
       "<Figure size 432x288 with 1 Axes>"
      ]
     },
     "metadata": {
      "needs_background": "light"
     },
     "output_type": "display_data"
    }
   ],
   "source": [
    "p = list_P[1]\n",
    "a = list_alpha[0]\n",
    "b = list_beta[1]\n",
    "c = list_gamma[1]\n",
    "\n",
    "grid = Grid(x=x, y=y)\n",
    "grid.initialize(part=p)\n",
    "grid.compute_th_param(alpha=a, beta=b, gamma=c)\n",
    "grid.submatrix()\n",
    "grid.enlargement_process()\n",
    "grid.montecarlo(n_it=100)\n",
    "\n",
    "X = (grid.X[:, :, -1].numpy() != 0)*1\n",
    "Y = (y[:, :, -1] != 0)*1\n",
    "\n",
    "plt.imshow(X-Y)"
   ]
  }
 ],
 "metadata": {
  "kernelspec": {
   "display_name": "Python 3",
   "language": "python",
   "name": "python3"
  },
  "language_info": {
   "codemirror_mode": {
    "name": "ipython",
    "version": 3
   },
   "file_extension": ".py",
   "mimetype": "text/x-python",
   "name": "python",
   "nbconvert_exporter": "python",
   "pygments_lexer": "ipython3",
   "version": "3.10.4"
  },
  "orig_nbformat": 4
 },
 "nbformat": 4,
 "nbformat_minor": 2
}
