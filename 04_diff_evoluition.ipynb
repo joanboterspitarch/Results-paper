{
 "cells": [
  {
   "cell_type": "code",
   "execution_count": 1,
   "metadata": {},
   "outputs": [],
   "source": [
    "import pandas as pd\n",
    "import numpy as np\n",
    "import matplotlib.pyplot as plt\n",
    "import seaborn as sns\n",
    "import os\n",
    "import sys\n",
    "import torch\n",
    "import torch.nn as nn\n",
    "import torch.nn.functional as F\n",
    "sys.path.append('./data/')\n",
    "sys.path.append('./models/')\n",
    "\n",
    "from baseline import *\n",
    "import pickle\n",
    "with open('./data/dict_data_final.pkl', 'rb') as f:\n",
    "    data = pickle.load(f)\n",
    "\n",
    "__, y = data['Beneixama']\n",
    "x = pd.read_csv('data_beneixama.csv', index_col=0)\n",
    "x['Train'] = __['Train'].values"
   ]
  },
  {
   "cell_type": "code",
   "execution_count": 2,
   "metadata": {},
   "outputs": [],
   "source": [
    "sus_y = np.array([(y[:, :, i] != 0).sum().item() for i in range(y.shape[2])])\n",
    "abs_y = np.argwhere(x.Train.values == True).flatten()"
   ]
  },
  {
   "cell_type": "code",
   "execution_count": 3,
   "metadata": {},
   "outputs": [],
   "source": [
    "P1 = [0, 0.1, 0.3, 0.5, 0.7, 0.9, 1.01]\n",
    "C1 = 1.5\n",
    "\n",
    "grid = Grid(x=x, y=y)\n",
    "grid.initialize(part=P1, div=C1)\n",
    "grid.submatrix()\n",
    "grid.enlargement_process()\n",
    "grid.montecarlo(n_it=100)\n",
    "\n",
    "base_sus_y = np.array([torch.sum(grid.X[:, :, i]) for i in abs_y])\n",
    "c_base = grid.div\n",
    "\n",
    "diff_base = base_sus_y - sus_y"
   ]
  },
  {
   "cell_type": "code",
   "execution_count": 4,
   "metadata": {},
   "outputs": [],
   "source": [
    "grid = Grid(x=x, y=y, mode='gumbel')\n",
    "grid.initialize(part=P1, div=C1)\n",
    "grid.submatrix()\n",
    "grid.enlargement_process()\n",
    "grid.montecarlo(n_it=100)\n",
    "\n",
    "base_sus_y_g = np.array([torch.sum(grid.X[:, :, i]) for i in abs_y])\n",
    "\n",
    "diff_base_g = base_sus_y_g - sus_y"
   ]
  },
  {
   "cell_type": "code",
   "execution_count": 5,
   "metadata": {},
   "outputs": [
    {
     "data": {
      "text/plain": [
       "(array([   0, -166, -272, -338, -405,  528, 1731, 3299, 6958], dtype=int64),\n",
       " array([   0, -165, -270, -333, -400,  543, 1744, 3314, 6894], dtype=int64))"
      ]
     },
     "execution_count": 5,
     "metadata": {},
     "output_type": "execute_result"
    }
   ],
   "source": [
    "diff_base, diff_base_g"
   ]
  },
  {
   "cell_type": "code",
   "execution_count": 6,
   "metadata": {},
   "outputs": [],
   "source": [
    "from thmodel import *"
   ]
  },
  {
   "cell_type": "code",
   "execution_count": 7,
   "metadata": {},
   "outputs": [],
   "source": [
    "grid = Grid(x=x, y=y)\n",
    "grid.initialize(part=P1)\n",
    "grid.compute_th_param(alpha=0.5, beta=0.5, gamma=0.5)\n",
    "grid.submatrix()\n",
    "grid.enlargement_process()\n",
    "grid.montecarlo(n_it=100)\n",
    "\n",
    "th_sus_y = np.array([torch.sum(grid.X[:, :, i]) for i in abs_y])\n",
    "c_th = grid.div\n",
    "\n",
    "diff_th = th_sus_y - sus_y"
   ]
  },
  {
   "cell_type": "code",
   "execution_count": 8,
   "metadata": {},
   "outputs": [],
   "source": [
    "grid = Grid(x=x, y=y, mode='gumbel')\n",
    "grid.initialize(part=P1)\n",
    "grid.compute_th_param(alpha=0.5, beta=0.5, gamma=0.5)\n",
    "grid.submatrix()\n",
    "grid.enlargement_process()\n",
    "grid.montecarlo(n_it=100)\n",
    "\n",
    "th_sus_y_g = np.array([torch.sum(grid.X[:, :, i]) for i in abs_y])\n",
    "\n",
    "diff_th_g = th_sus_y_g - sus_y"
   ]
  },
  {
   "cell_type": "code",
   "execution_count": 9,
   "metadata": {},
   "outputs": [
    {
     "data": {
      "text/plain": [
       "(array([   0, -162, -256, -306, -353,  692, 2021, 3735, 7181], dtype=int64),\n",
       " array([   0, -160, -252, -302, -347,  703, 2034, 3752, 7199], dtype=int64))"
      ]
     },
     "execution_count": 9,
     "metadata": {},
     "output_type": "execute_result"
    }
   ],
   "source": [
    "diff_th, diff_th_g"
   ]
  },
  {
   "cell_type": "code",
   "execution_count": 33,
   "metadata": {},
   "outputs": [
    {
     "name": "stderr",
     "output_type": "stream",
     "text": [
      "The PostScript backend does not support transparency; partially transparent artists will be rendered opaque.\n"
     ]
    },
    {
     "data": {
      "image/png": "[encoded data removed]",
      "text/plain": [
       "<Figure size 432x288 with 1 Axes>"
      ]
     },
     "metadata": {
      "needs_background": "light"
     },
     "output_type": "display_data"
    }
   ],
   "source": [
    "mode = ['Gen ' + str(i) for i in abs_y]\n",
    "values = {\n",
    "    'Baseline': diff_base,\n",
    "    'TH-Model': diff_th\n",
    "}\n",
    "\n",
    "x_ = np.arange(len(mode))  # the label locations\n",
    "width = 0.4  # the width of the bars\n",
    "multiplier = 0\n",
    "\n",
    "fig, ax = plt.subplots(layout='constrained')\n",
    "\n",
    "for attribute, measurement in values.items():\n",
    "    offset = width * multiplier\n",
    "    rects = ax.bar(x_ + offset, measurement, width, label=attribute)\n",
    "    #ax.bar_label(rects, padding=3)\n",
    "    multiplier += 1\n",
    "\n",
    "# Add some text for labels, title and custom x-axis tick labels, etc.\n",
    "ax.set_ylabel('Difference')\n",
    "ax.set_title('Difference between model estimate and actual wildfire')\n",
    "ax.set_xticks(x_ + width, mode)\n",
    "ax.legend(loc='upper left')\n",
    "ax.set_ylim(-600, 8000)\n",
    "ax.grid()\n",
    "\n",
    "fig.tight_layout()\n",
    "fig.savefig('diff_evoluition.png', dpi=300)\n",
    "fig.savefig('diff_evoluition.eps', dpi=300)"
   ]
  },
  {
   "cell_type": "code",
   "execution_count": 16,
   "metadata": {},
   "outputs": [],
   "source": [
    "c_base = np.array([c_base for i in range(17)])"
   ]
  },
  {
   "cell_type": "code",
   "execution_count": 35,
   "metadata": {},
   "outputs": [
    {
     "name": "stderr",
     "output_type": "stream",
     "text": [
      "The PostScript backend does not support transparency; partially transparent artists will be rendered opaque.\n"
     ]
    },
    {
     "data": {
      "image/png": "[encoded data removed]",
      "text/plain": [
       "<Figure size 432x288 with 1 Axes>"
      ]
     },
     "metadata": {
      "needs_background": "light"
     },
     "output_type": "display_data"
    }
   ],
   "source": [
    "values = {\n",
    "    'Baseline': c_base,\n",
    "    'TH-Model': c_th.numpy()\n",
    "}\n",
    "\n",
    "x_ = np.arange(len(c_th.numpy()))  # the label locations\n",
    "width = 0.4  # the width of the bars\n",
    "multiplier = 0\n",
    "\n",
    "fig, ax = plt.subplots(layout='constrained')\n",
    "\n",
    "for attribute, measurement in values.items():\n",
    "    offset = width * multiplier\n",
    "    rects = ax.bar(x_ + offset, measurement, width, label=attribute)\n",
    "    #ax.bar_label(rects, padding=3)\n",
    "    multiplier += 1\n",
    "\n",
    "# Add some text for labels, title and custom x-axis tick labels, etc.\n",
    "ax.set_ylabel('Difference')\n",
    "ax.set_title('Difference between model estimate and actual wildfire')\n",
    "ax.legend(loc='upper left')\n",
    "ax.axhline(y=1.5, color='r', linestyle='--')\n",
    "ax.set_ylim(1, 2)\n",
    "ax.grid()\n",
    "\n",
    "fig.tight_layout()\n",
    "fig.savefig('diff_evoluition_C.png', dpi=300)\n",
    "fig.savefig('diff_evoluition_C.eps', dpi=300)\n"
   ]
  },
  {
   "cell_type": "code",
   "execution_count": 44,
   "metadata": {},
   "outputs": [
    {
     "name": "stderr",
     "output_type": "stream",
     "text": [
      "The PostScript backend does not support transparency; partially transparent artists will be rendered opaque.\n"
     ]
    },
    {
     "data": {
      "image/png": "[encoded data removed]",
      "text/plain": [
       "<Figure size 432x288 with 1 Axes>"
      ]
     },
     "metadata": {
      "needs_background": "light"
     },
     "output_type": "display_data"
    }
   ],
   "source": [
    "plt.plot(x_, c_base, 'ro-', label='Baseline')\n",
    "plt.plot(x_, c_th.numpy(), 'bo-', label='TH-Model')\n",
    "plt.ylabel('Value of loss factor C')\n",
    "plt.xlabel('Generation')\n",
    "plt.title('Loss factor C according to temperature and humidity')\n",
    "plt.legend()\n",
    "plt.savefig('lossfactor_evolution.png', dpi=300)\n",
    "plt.savefig('lossfactor_evolution.eps', dpi=300)"
   ]
  },
  {
   "cell_type": "code",
   "execution_count": 11,
   "metadata": {},
   "outputs": [],
   "source": [
    "import matplotlib.pyplot as plt\n",
    "import numpy as np\n",
    "\n",
    "def plot_confusion_errors(X, Y, name='mask_errors'):\n",
    "    \"\"\"\n",
    "    Crea un gráfico mostrando los errores en la comparación entre X e Y.\n",
    "    \n",
    "    Parametros:\n",
    "        X (numpy array): Primera matriz binaria.\n",
    "        Y (numpy array): Segunda matriz binaria.\n",
    "    \"\"\"\n",
    "\n",
    "    # Verificar que X e Y tengan las mismas dimensiones\n",
    "    assert X.shape == Y.shape, \"X e Y deben tener las mismas dimensiones.\"\n",
    "\n",
    "    # Calcular la diferencia entre X e Y para obtener los diferentes tipos de errores\n",
    "    diff = X - Y\n",
    "\n",
    "    # Asignar colores específicos a cada tipo de error\n",
    "    cmap = plt.cm.colors.ListedColormap(['red', 'green', 'blue'])\n",
    "    bounds = [-1.5, -0.5, 0.5, 1.5]\n",
    "    norm = plt.cm.colors.BoundaryNorm(bounds, cmap.N)\n",
    "\n",
    "    # Crear la imagen del gráfico con colores personalizados\n",
    "    plt.imshow(diff, cmap=cmap, norm=norm)\n",
    "\n",
    "    # Crear una leyenda para los tipos de errores\n",
    "    legend_labels = ['Correct', 'FN', 'FP']\n",
    "    colors = ['green', 'red', 'blue']\n",
    "    patches = [plt.Rectangle((0, 0), 1, 1, fc=color) for color in colors]\n",
    "    plt.legend(patches, legend_labels, loc='upper right')\n",
    "    # plt.savefig(name , format='eps', dpi=300)\n",
    "\n",
    "    # Mostrar el gráfico\n",
    "    plt.show()"
   ]
  },
  {
   "cell_type": "code",
   "execution_count": 12,
   "metadata": {},
   "outputs": [
    {
     "data": {
      "image/png": "[encoded data removed]",
      "text/plain": [
       "<Figure size 432x288 with 1 Axes>"
      ]
     },
     "metadata": {
      "needs_background": "light"
     },
     "output_type": "display_data"
    }
   ],
   "source": [
    "X = (grid.X[:, :, -1].numpy() != 0)*1\n",
    "Y = (y[:, :, -1] != 0)*1\n",
    "\n",
    "plot_confusion_errors(X, Y, name='figures\\mask_errors_p2.eps')"
   ]
  }
 ],
 "metadata": {
  "kernelspec": {
   "display_name": "Python 3",
   "language": "python",
   "name": "python3"
  },
  "language_info": {
   "codemirror_mode": {
    "name": "ipython",
    "version": 3
   },
   "file_extension": ".py",
   "mimetype": "text/x-python",
   "name": "python",
   "nbconvert_exporter": "python",
   "pygments_lexer": "ipython3",
   "version": "3.10.4"
  },
  "orig_nbformat": 4
 },
 "nbformat": 4,
 "nbformat_minor": 2
}
