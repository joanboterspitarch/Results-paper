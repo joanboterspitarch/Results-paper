{
 "cells": [
  {
   "cell_type": "code",
   "execution_count": 19,
   "metadata": {},
   "outputs": [],
   "source": [
    "import pandas as pd\n",
    "import numpy as np\n",
    "import matplotlib.pyplot as plt\n",
    "import seaborn as sns\n",
    "import os\n",
    "import sys\n",
    "import torch\n",
    "import torch.nn as nn\n",
    "import torch.nn.functional as F\n",
    "sys.path.append('./data/')\n",
    "sys.path.append('./models/')\n",
    "\n",
    "from baseline import *\n",
    "import pickle\n",
    "with open('./data/dict_data_final.pkl', 'rb') as f:\n",
    "    data = pickle.load(f)\n",
    "\n",
    "__, y = data['Beneixama']\n",
    "x = pd.read_csv('data_beneixama.csv', index_col=0)\n",
    "x['Train'] = __['Train'].values"
   ]
  },
  {
   "cell_type": "markdown",
   "metadata": {},
   "source": [
    "# Parameters"
   ]
  },
  {
   "cell_type": "code",
   "execution_count": 20,
   "metadata": {},
   "outputs": [],
   "source": [
    "list_P = [\n",
    "    [0, 0.1, 0.5, 0.9, 1.01],\n",
    "    [0, 0.1, 0.3, 0.5, 0.7, 0.9, 1.01],\n",
    "    [0, 0.1, 0.2, 0.3, 0.4, 0.5, 0.6, 0.7, 0.8, 0.9, 1.01],\n",
    "]\n",
    "list_C = [1, 1.5, 2, 2.5, 3, 4, 5]"
   ]
  },
  {
   "cell_type": "markdown",
   "metadata": {},
   "source": [
    "# Compute de table"
   ]
  },
  {
   "cell_type": "markdown",
   "metadata": {},
   "source": [
    "Vamos a calcular la tabla donde se recogen las principales métricas de precisión de nuestro modelo. Todas ellas serán balanceadas para ajustar el desequilibrio entre las clases."
   ]
  },
  {
   "cell_type": "code",
   "execution_count": 3,
   "metadata": {},
   "outputs": [],
   "source": [
    "w = torch.where(\n",
    "    torch.from_numpy(y[:, :, -1] == 0),\n",
    "    torch.from_numpy(y[:, :, -1] != 0).sum(),\n",
    "    torch.from_numpy(y[:, :, -1] == 0).sum()\n",
    ")/(257**2)\n",
    "\n",
    "##### loss & metrics #####\n",
    "\n",
    "loss = nn.BCELoss(weight=w.flatten().reshape(-1, 1))\n",
    "y_t = torch.tensor(y, dtype=torch.float32)"
   ]
  },
  {
   "cell_type": "code",
   "execution_count": 4,
   "metadata": {},
   "outputs": [],
   "source": [
    "Y = (y[:, :, -1] != 0)*1"
   ]
  },
  {
   "cell_type": "code",
   "execution_count": 5,
   "metadata": {},
   "outputs": [],
   "source": [
    "from sklearn.metrics import confusion_matrix, f1_score, balanced_accuracy_score"
   ]
  },
  {
   "cell_type": "code",
   "execution_count": 6,
   "metadata": {},
   "outputs": [
    {
     "name": "stdout",
     "output_type": "stream",
     "text": [
      "Part:  [0, 0.1, 0.5, 0.9, 1.01]  Div:  1\n",
      "fp:  0.015919966549486627  fn:  0.39227642276422764\n",
      " acc:  0.7959018053431428  f1:  0.9772331875209709  loss:  0.8453402519226074\n",
      "Part:  [0, 0.1, 0.5, 0.9, 1.01]  Div:  1.5\n",
      "fp:  0.013519582488036795  fn:  0.3943089430894309\n",
      " acc:  0.7960857372112662  f1:  0.978934380264774  loss:  0.7733964920043945\n",
      "Part:  [0, 0.1, 0.5, 0.9, 1.01]  Div:  2\n",
      "fp:  0.009198891177427098  fn:  0.4518970189701897\n",
      " acc:  0.7694520449261916  f1:  0.9806714592989331  loss:  0.7789738774299622\n",
      "Part:  [0, 0.1, 0.5, 0.9, 1.01]  Div:  2.5\n",
      "fp:  0.0062719712573366575  fn:  0.5121951219512195\n",
      " acc:  0.7407664533957219  f1:  0.9812599141206148  loss:  0.8464807271957397\n",
      "Part:  [0, 0.1, 0.5, 0.9, 1.01]  Div:  3\n",
      "fp:  0.004429095752094529  fn:  0.5609756097560976\n",
      " acc:  0.717297647245904  f1:  0.9812723981961506  loss:  0.9506329298019409\n",
      "Part:  [0, 0.1, 0.5, 0.9, 1.01]  Div:  4\n",
      "fp:  0.00235392501509919  fn:  0.6409214092140921\n",
      " acc:  0.6783623328854043  f1:  0.9803685037670078  loss:  1.0806915760040283\n",
      "Part:  [0, 0.1, 0.5, 0.9, 1.01]  Div:  5\n",
      "fp:  0.0015176621807876356  fn:  0.69579945799458\n",
      " acc:  0.6513414399123162  f1:  0.9791171208738846  loss:  1.1578882932662964\n",
      "Part:  [0, 0.1, 0.3, 0.5, 0.7, 0.9, 1.01]  Div:  1\n",
      "fp:  0.06228609480742725  fn:  0.1497289972899729\n",
      " acc:  0.8939924539512999  f1:  0.9528649410892124  loss:  0.41700029373168945\n",
      "Part:  [0, 0.1, 0.3, 0.5, 0.7, 0.9, 1.01]  Div:  1.5\n",
      "fp:  0.05541015594753225  fn:  0.11991869918699187\n",
      " acc:  0.912335572432738  f1:  0.9575968756853788  loss:  0.185409277677536\n",
      "Part:  [0, 0.1, 0.3, 0.5, 0.7, 0.9, 1.01]  Div:  2\n",
      "fp:  0.034038994626236975  fn:  0.21612466124661248\n",
      " acc:  0.8749181720635753  f1:  0.9690216087814815  loss:  0.23511293530464172\n",
      "Part:  [0, 0.1, 0.3, 0.5, 0.7, 0.9, 1.01]  Div:  2.5\n",
      "fp:  0.019714122001455718  fn:  0.3313008130081301\n",
      " acc:  0.824492532495207  f1:  0.9760404705173952  loss:  0.43822142481803894\n",
      "Part:  [0, 0.1, 0.3, 0.5, 0.7, 0.9, 1.01]  Div:  3\n",
      "fp:  0.011862543168197234  fn:  0.4234417344173442\n",
      " acc:  0.7823478612072292  f1:  0.9794084006933591  loss:  0.6269738674163818\n",
      "Part:  [0, 0.1, 0.3, 0.5, 0.7, 0.9, 1.01]  Div:  4\n",
      "fp:  0.004878199866817401  fn:  0.559620596205962\n",
      " acc:  0.7177506019636103  f1:  0.980950804985997  loss:  0.8383795022964478\n",
      "Part:  [0, 0.1, 0.3, 0.5, 0.7, 0.9, 1.01]  Div:  5\n",
      "fp:  0.002245520573614359  fn:  0.6605691056910569\n",
      " acc:  0.6685926868676644  f1:  0.9797807294889923  loss:  1.0521727800369263\n",
      "Part:  [0, 0.1, 0.2, 0.3, 0.4, 0.5, 0.6, 0.7, 0.8, 0.9, 1.01]  Div:  1\n",
      "fp:  0.24284143527480526  fn:  0.16124661246612465\n",
      " acc:  0.797955976129535  f1:  0.8437845063582226  loss:  0.8660047650337219\n",
      "Part:  [0, 0.1, 0.2, 0.3, 0.4, 0.5, 0.6, 0.7, 0.8, 0.9, 1.01]  Div:  1.5\n",
      "fp:  0.1938736004212287  fn:  0.09349593495934959\n",
      " acc:  0.8563152323097108  f1:  0.8755782338931392  loss:  0.372205913066864\n",
      "Part:  [0, 0.1, 0.2, 0.3, 0.4, 0.5, 0.6, 0.7, 0.8, 0.9, 1.01]  Div:  2\n",
      "fp:  0.08062193176714726  fn:  0.06300813008130081\n",
      " acc:  0.928184969075776  f1:  0.9435493941870889  loss:  0.12732276320457458\n",
      "Part:  [0, 0.1, 0.2, 0.3, 0.4, 0.5, 0.6, 0.7, 0.8, 0.9, 1.01]  Div:  2.5\n",
      "fp:  0.03368280860421538  fn:  0.22560975609756098\n",
      " acc:  0.8703537176491118  f1:  0.9690484379246173  loss:  0.2252672016620636\n",
      "Part:  [0, 0.1, 0.2, 0.3, 0.4, 0.5, 0.6, 0.7, 0.8, 0.9, 1.01]  Div:  3\n",
      "fp:  0.016632338593529805  fn:  0.36653116531165314\n",
      " acc:  0.8084182480474086  f1:  0.9773676141335833  loss:  0.3500998616218567\n",
      "Part:  [0, 0.1, 0.2, 0.3, 0.4, 0.5, 0.6, 0.7, 0.8, 0.9, 1.01]  Div:  4\n"
     ]
    },
    {
     "ename": "KeyboardInterrupt",
     "evalue": "",
     "output_type": "error",
     "traceback": [
      "\u001b[1;31m---------------------------------------------------------------------------\u001b[0m",
      "\u001b[1;31mKeyboardInterrupt\u001b[0m                         Traceback (most recent call last)",
      "\u001b[1;32mc:\\Users\\joanb\\Desktop\\Results_paper\\00_2_baseline_table.ipynb Cell 9\u001b[0m in \u001b[0;36m<cell line: 2>\u001b[1;34m()\u001b[0m\n\u001b[0;32m      <a href='vscode-notebook-cell:/c%3A/Users/joanb/Desktop/Results_paper/00_2_baseline_table.ipynb#X11sZmlsZQ%3D%3D?line=8'>9</a>\u001b[0m grid\u001b[39m.\u001b[39msubmatrix()\n\u001b[0;32m     <a href='vscode-notebook-cell:/c%3A/Users/joanb/Desktop/Results_paper/00_2_baseline_table.ipynb#X11sZmlsZQ%3D%3D?line=9'>10</a>\u001b[0m grid\u001b[39m.\u001b[39menlargement_process()\n\u001b[1;32m---> <a href='vscode-notebook-cell:/c%3A/Users/joanb/Desktop/Results_paper/00_2_baseline_table.ipynb#X11sZmlsZQ%3D%3D?line=10'>11</a>\u001b[0m grid\u001b[39m.\u001b[39;49mmontecarlo(n_it\u001b[39m=\u001b[39;49m\u001b[39m100\u001b[39;49m)\n\u001b[0;32m     <a href='vscode-notebook-cell:/c%3A/Users/joanb/Desktop/Results_paper/00_2_baseline_table.ipynb#X11sZmlsZQ%3D%3D?line=12'>13</a>\u001b[0m X \u001b[39m=\u001b[39m (grid\u001b[39m.\u001b[39mX[:, :, \u001b[39m-\u001b[39m\u001b[39m1\u001b[39m]\u001b[39m.\u001b[39mnumpy() \u001b[39m!=\u001b[39m \u001b[39m0\u001b[39m)\u001b[39m*\u001b[39m\u001b[39m1\u001b[39m\n\u001b[0;32m     <a href='vscode-notebook-cell:/c%3A/Users/joanb/Desktop/Results_paper/00_2_baseline_table.ipynb#X11sZmlsZQ%3D%3D?line=14'>15</a>\u001b[0m cmat \u001b[39m=\u001b[39m confusion_matrix(Y\u001b[39m.\u001b[39mflatten(), X\u001b[39m.\u001b[39mflatten(), normalize\u001b[39m=\u001b[39m\u001b[39m'\u001b[39m\u001b[39mtrue\u001b[39m\u001b[39m'\u001b[39m)\n",
      "File \u001b[1;32mc:\\Users\\joanb\\Desktop\\Results_paper\\./models\\baseline.py:317\u001b[0m, in \u001b[0;36mGrid.montecarlo\u001b[1;34m(self, n_it, tau)\u001b[0m\n\u001b[0;32m    305\u001b[0m \u001b[39mself\u001b[39m\u001b[39m.\u001b[39mdf_MC \u001b[39m=\u001b[39m pd\u001b[39m.\u001b[39mDataFrame(\n\u001b[0;32m    306\u001b[0m     np\u001b[39m.\u001b[39mzeros((\u001b[39mself\u001b[39m\u001b[39m.\u001b[39mK\u001b[39m+\u001b[39m\u001b[39m1\u001b[39m, \u001b[39m3\u001b[39m), dtype\u001b[39m=\u001b[39m\u001b[39m'\u001b[39m\u001b[39mfloat64\u001b[39m\u001b[39m'\u001b[39m),\n\u001b[0;32m    307\u001b[0m     columns\u001b[39m=\u001b[39m[\u001b[39m'\u001b[39m\u001b[39mSusceptible\u001b[39m\u001b[39m'\u001b[39m, \u001b[39m'\u001b[39m\u001b[39mInfected\u001b[39m\u001b[39m'\u001b[39m, \u001b[39m'\u001b[39m\u001b[39mDead\u001b[39m\u001b[39m'\u001b[39m]\n\u001b[0;32m    308\u001b[0m )\n\u001b[0;32m    310\u001b[0m \u001b[39m#self.submatrix()\u001b[39;00m\n\u001b[0;32m    311\u001b[0m \u001b[39m#self.enlargement_process()\u001b[39;00m\n\u001b[0;32m    312\u001b[0m \n\u001b[0;32m    313\u001b[0m \u001b[39m# we have to note that self.A and self.large_matrices are already computed.\u001b[39;00m\n\u001b[0;32m    314\u001b[0m \u001b[39m# we only need to compute the neighbourhood relation and update the state\u001b[39;00m\n\u001b[0;32m    315\u001b[0m \u001b[39m# for every single random seed\u001b[39;00m\n\u001b[1;32m--> 317\u001b[0m \u001b[39mself\u001b[39;49m\u001b[39m.\u001b[39;49mtask_montecarlo(n_it\u001b[39m=\u001b[39;49mn_it, tau\u001b[39m=\u001b[39;49mtau)\n\u001b[0;32m    319\u001b[0m _, \u001b[39mself\u001b[39m\u001b[39m.\u001b[39mX \u001b[39m=\u001b[39m torch\u001b[39m.\u001b[39mmax(\n\u001b[0;32m    320\u001b[0m     torch\u001b[39m.\u001b[39mstack((\u001b[39mself\u001b[39m\u001b[39m.\u001b[39mX0, \u001b[39mself\u001b[39m\u001b[39m.\u001b[39mX1, \u001b[39mself\u001b[39m\u001b[39m.\u001b[39mX2), dim\u001b[39m=\u001b[39m\u001b[39m-\u001b[39m\u001b[39m1\u001b[39m),\n\u001b[0;32m    321\u001b[0m     dim\u001b[39m=\u001b[39m\u001b[39m-\u001b[39m\u001b[39m1\u001b[39m\n\u001b[0;32m    322\u001b[0m )\n",
      "File \u001b[1;32mc:\\Users\\joanb\\Desktop\\Results_paper\\./models\\baseline.py:268\u001b[0m, in \u001b[0;36mGrid.task_montecarlo\u001b[1;34m(self, n_it, tau)\u001b[0m\n\u001b[0;32m    265\u001b[0m np\u001b[39m.\u001b[39mrandom\u001b[39m.\u001b[39mseed(s)\n\u001b[0;32m    267\u001b[0m \u001b[39mself\u001b[39m\u001b[39m.\u001b[39mrefresh()\n\u001b[1;32m--> 268\u001b[0m \u001b[39mself\u001b[39;49m\u001b[39m.\u001b[39;49mspread(seed\u001b[39m=\u001b[39;49ms, tau\u001b[39m=\u001b[39;49mtau)\n\u001b[0;32m    270\u001b[0m \u001b[39mself\u001b[39m\u001b[39m.\u001b[39mX0 \u001b[39m+\u001b[39m\u001b[39m=\u001b[39m torch\u001b[39m.\u001b[39mwhere(\n\u001b[0;32m    271\u001b[0m     \u001b[39mself\u001b[39m\u001b[39m.\u001b[39mS\u001b[39m==\u001b[39m\u001b[39m0\u001b[39m,\n\u001b[0;32m    272\u001b[0m     \u001b[39mself\u001b[39m\u001b[39m.\u001b[39mS \u001b[39m+\u001b[39m \u001b[39m1\u001b[39m,\n\u001b[0;32m    273\u001b[0m     \u001b[39m0\u001b[39m\n\u001b[0;32m    274\u001b[0m )\u001b[39m.\u001b[39mclone()\u001b[39m.\u001b[39mto(torch\u001b[39m.\u001b[39mfloat)\n\u001b[0;32m    276\u001b[0m \u001b[39mself\u001b[39m\u001b[39m.\u001b[39mX1 \u001b[39m+\u001b[39m\u001b[39m=\u001b[39m torch\u001b[39m.\u001b[39mwhere(\n\u001b[0;32m    277\u001b[0m     \u001b[39mself\u001b[39m\u001b[39m.\u001b[39mS\u001b[39m==\u001b[39m\u001b[39m1\u001b[39m,\n\u001b[0;32m    278\u001b[0m     \u001b[39mself\u001b[39m\u001b[39m.\u001b[39mS,\n\u001b[0;32m    279\u001b[0m     \u001b[39m0\u001b[39m\n\u001b[0;32m    280\u001b[0m )\u001b[39m.\u001b[39mclone()\u001b[39m.\u001b[39mto(torch\u001b[39m.\u001b[39mfloat)\n",
      "File \u001b[1;32mc:\\Users\\joanb\\Desktop\\Results_paper\\./models\\baseline.py:235\u001b[0m, in \u001b[0;36mGrid.spread\u001b[1;34m(self, seed, tau)\u001b[0m\n\u001b[0;32m    233\u001b[0m \u001b[39mself\u001b[39m\u001b[39m.\u001b[39mneighbourhood_relation(step\u001b[39m=\u001b[39mL)\n\u001b[0;32m    234\u001b[0m \u001b[39mself\u001b[39m\u001b[39m.\u001b[39mP[:, :, L] \u001b[39m=\u001b[39m \u001b[39mself\u001b[39m\u001b[39m.\u001b[39mneigh_prob\u001b[39m.\u001b[39mclone()\n\u001b[1;32m--> 235\u001b[0m \u001b[39mself\u001b[39;49m\u001b[39m.\u001b[39;49mupdate(tau\u001b[39m=\u001b[39;49mtau)\n\u001b[0;32m    236\u001b[0m \u001b[39mself\u001b[39m\u001b[39m.\u001b[39mS[:, :, L\u001b[39m+\u001b[39m\u001b[39m1\u001b[39m] \u001b[39m=\u001b[39m \u001b[39mself\u001b[39m\u001b[39m.\u001b[39mstate\u001b[39m.\u001b[39mclone()\n\u001b[0;32m    237\u001b[0m \u001b[39mself\u001b[39m\u001b[39m.\u001b[39mdf_spread\u001b[39m.\u001b[39miloc[L\u001b[39m+\u001b[39m\u001b[39m1\u001b[39m] \u001b[39m=\u001b[39m [\u001b[39mself\u001b[39m\u001b[39m.\u001b[39msusceptible, \u001b[39mself\u001b[39m\u001b[39m.\u001b[39minfected, \u001b[39mself\u001b[39m\u001b[39m.\u001b[39mdead]\n",
      "File \u001b[1;32mc:\\Users\\joanb\\Desktop\\Results_paper\\./models\\baseline.py:221\u001b[0m, in \u001b[0;36mGrid.update\u001b[1;34m(self, tau)\u001b[0m\n\u001b[0;32m    219\u001b[0m \u001b[39mself\u001b[39m\u001b[39m.\u001b[39mcont[\u001b[39mself\u001b[39m\u001b[39m.\u001b[39mstate\u001b[39m==\u001b[39m\u001b[39m1\u001b[39m] \u001b[39m+\u001b[39m\u001b[39m=\u001b[39m \u001b[39m1\u001b[39m\n\u001b[0;32m    220\u001b[0m \u001b[39m# update the indices of the infected cells\u001b[39;00m\n\u001b[1;32m--> 221\u001b[0m \u001b[39mself\u001b[39m\u001b[39m.\u001b[39mind \u001b[39m=\u001b[39m torch\u001b[39m.\u001b[39;49margwhere(\u001b[39mself\u001b[39;49m\u001b[39m.\u001b[39;49mstate\u001b[39m==\u001b[39;49m\u001b[39m1\u001b[39;49m)\u001b[39m.\u001b[39mnumpy()\n\u001b[0;32m    222\u001b[0m \u001b[39m# update the number of susceptible, infected and dead cells\u001b[39;00m\n\u001b[0;32m    223\u001b[0m \u001b[39mself\u001b[39m\u001b[39m.\u001b[39msusceptible \u001b[39m=\u001b[39m torch\u001b[39m.\u001b[39msum(\u001b[39mself\u001b[39m\u001b[39m.\u001b[39mstate\u001b[39m==\u001b[39m\u001b[39m0\u001b[39m)\u001b[39m.\u001b[39mitem()\n",
      "\u001b[1;31mKeyboardInterrupt\u001b[0m: "
     ]
    }
   ],
   "source": [
    "data_loss = np.zeros((len(list_P), len(list_C), 5))\n",
    "for i, part in enumerate(list_P):\n",
    "    for j, c in enumerate(list_C):\n",
    "\n",
    "        print('Part: ', part, ' Div: ', c)\n",
    "\n",
    "        grid = Grid(x=x, y=y)\n",
    "        grid.initialize(part=part, div=c)\n",
    "        grid.submatrix()\n",
    "        grid.enlargement_process()\n",
    "        grid.montecarlo(n_it=100)\n",
    "\n",
    "        X = (grid.X[:, :, -1].numpy() != 0)*1\n",
    "\n",
    "        cmat = confusion_matrix(Y.flatten(), X.flatten(), normalize='true')\n",
    "\n",
    "        fp = cmat[0, 1]\n",
    "        fn = cmat[1, 0]\n",
    "\n",
    "        acc = balanced_accuracy_score(Y.flatten(), X.flatten())\n",
    "        f1 = f1_score(Y.flatten(), X.flatten(), average='weighted')\n",
    "\n",
    "        l_b = loss(\n",
    "            torch.stack(\n",
    "                    [grid.X0[:, :, -1].flatten(), 1 - grid.X0[:, :, -1].flatten()], \n",
    "                    dim=-1\n",
    "                ).float(),\n",
    "                torch.stack(\n",
    "                    [((y_t[:, :, -1] == 0)*1).flatten(), ((y_t[:, :, -1] != 0)*1).flatten()],\n",
    "                    dim=-1\n",
    "                ).float()\n",
    "        ).clone().item()\n",
    "        \n",
    "        print('fp: ', fp, ' fn: ', fn)\n",
    "        print(' acc: ', acc, ' f1: ', f1, ' loss: ', l_b)\n",
    "\n",
    "        data_loss[i, j, :] = [fp, fn, acc, f1, l_b]"
   ]
  },
  {
   "cell_type": "code",
   "execution_count": null,
   "metadata": {},
   "outputs": [
    {
     "data": {
      "text/plain": [
       "array([[0.24284144, 0.16124661, 0.79795598, 0.84378451, 0.86600477],\n",
       "       [0.1938736 , 0.09349593, 0.85631523, 0.87557823, 0.37220591],\n",
       "       [0.08062193, 0.06300813, 0.92818497, 0.94354939, 0.12732276],\n",
       "       [0.03368281, 0.22560976, 0.87035372, 0.96904844, 0.2252672 ],\n",
       "       [0.01663234, 0.36653117, 0.80841825, 0.97736761, 0.35009986],\n",
       "       [0.00565252, 0.54268293, 0.72583228, 0.98084654, 0.68283933],\n",
       "       [0.00250879, 0.64227642, 0.67760739, 0.98019589, 0.93666625]])"
      ]
     },
     "execution_count": 7,
     "metadata": {},
     "output_type": "execute_result"
    }
   ],
   "source": [
    "data_loss[2, :, :]"
   ]
  },
  {
   "cell_type": "code",
   "execution_count": null,
   "metadata": {},
   "outputs": [],
   "source": [
    "data_loss_formatted = np.around(data_loss*100, decimals=4)"
   ]
  },
  {
   "cell_type": "code",
   "execution_count": null,
   "metadata": {},
   "outputs": [
    {
     "data": {
      "text/plain": [
       "array([[24.2841, 16.1247, 79.7956, 84.3785, 86.6005],\n",
       "       [19.3874,  9.3496, 85.6315, 87.5578, 37.2206],\n",
       "       [ 8.0622,  6.3008, 92.8185, 94.3549, 12.7323],\n",
       "       [ 3.3683, 22.561 , 87.0354, 96.9048, 22.5267],\n",
       "       [ 1.6632, 36.6531, 80.8418, 97.7368, 35.01  ],\n",
       "       [ 0.5653, 54.2683, 72.5832, 98.0847, 68.2839],\n",
       "       [ 0.2509, 64.2276, 67.7607, 98.0196, 93.6666]])"
      ]
     },
     "execution_count": 9,
     "metadata": {},
     "output_type": "execute_result"
    }
   ],
   "source": [
    "data_loss_formatted[2, :, :]"
   ]
  },
  {
   "cell_type": "code",
   "execution_count": null,
   "metadata": {},
   "outputs": [
    {
     "data": {
      "text/plain": [
       "array([0.08225906, 0.29926442, 0.80923826, 0.93862437, 0.50862944])"
      ]
     },
     "execution_count": 10,
     "metadata": {},
     "output_type": "execute_result"
    }
   ],
   "source": [
    "data_loss[2, :, :].mean(axis=0)"
   ]
  },
  {
   "cell_type": "code",
   "execution_count": null,
   "metadata": {},
   "outputs": [
    {
     "name": "stdout",
     "output_type": "stream",
     "text": [
      "\\begin{tabular}{rrrrr}\n",
      "\\toprule\n",
      "1.59 & 39.23 & 79.59 & 97.72 &  84.53 \\\\\n",
      "1.35 & 39.43 & 79.61 & 97.89 &  77.34 \\\\\n",
      "0.92 & 45.19 & 76.95 & 98.07 &  77.90 \\\\\n",
      "0.63 & 51.22 & 74.08 & 98.13 &  84.65 \\\\\n",
      "0.44 & 56.10 & 71.73 & 98.13 &  95.06 \\\\\n",
      "0.24 & 64.09 & 67.84 & 98.04 & 108.07 \\\\\n",
      "0.15 & 69.58 & 65.13 & 97.91 & 115.79 \\\\\n",
      "\\bottomrule\n",
      "\\end{tabular}\n",
      "\n"
     ]
    }
   ],
   "source": [
    "df0 = pd.DataFrame(data_loss_formatted[0, :, :])\n",
    "df0.columns = ['fp', 'fn', 'acc', 'f1', 'loss']\n",
    "\n",
    "df_formatted = df0.round(2)\n",
    "\n",
    "# Genera la tabla de LaTeX utilizando el método to_latex()\n",
    "latex_table = df_formatted.to_latex(index=False, header=False)\n",
    "print(latex_table)"
   ]
  },
  {
   "cell_type": "code",
   "execution_count": null,
   "metadata": {},
   "outputs": [
    {
     "data": {
      "text/plain": [
       "array([ 0.76017143, 52.11961429, 73.5601    , 97.98365714, 91.90577143])"
      ]
     },
     "execution_count": 12,
     "metadata": {},
     "output_type": "execute_result"
    }
   ],
   "source": [
    "df0.mean(axis=0).values.flatten()"
   ]
  },
  {
   "cell_type": "code",
   "execution_count": null,
   "metadata": {},
   "outputs": [
    {
     "name": "stdout",
     "output_type": "stream",
     "text": [
      "\\begin{tabular}{rrrrr}\n",
      "\\toprule\n",
      "6.23 & 14.97 & 89.40 & 95.29 &  41.70 \\\\\n",
      "5.54 & 11.99 & 91.23 & 95.76 &  18.54 \\\\\n",
      "3.40 & 21.61 & 87.49 & 96.90 &  23.51 \\\\\n",
      "1.97 & 33.13 & 82.45 & 97.60 &  43.82 \\\\\n",
      "1.19 & 42.34 & 78.23 & 97.94 &  62.70 \\\\\n",
      "0.49 & 55.96 & 71.78 & 98.10 &  83.84 \\\\\n",
      "0.22 & 66.06 & 66.86 & 97.98 & 105.22 \\\\\n",
      "\\bottomrule\n",
      "\\end{tabular}\n",
      "\n"
     ]
    }
   ],
   "source": [
    "df1 = pd.DataFrame(data_loss_formatted[1, :, :])\n",
    "df1.columns = ['fp', 'fn', 'acc', 'f1', 'loss']\n",
    "\n",
    "df_formatted = df1.round(2)\n",
    "\n",
    "# Genera la tabla de LaTeX utilizando el método to_latex()\n",
    "latex_table = df_formatted.to_latex(index=False, header=False)\n",
    "print(latex_table)"
   ]
  },
  {
   "cell_type": "code",
   "execution_count": null,
   "metadata": {},
   "outputs": [
    {
     "data": {
      "text/plain": [
       "array([ 2.72051429, 35.15294286, 81.0633    , 97.08091429, 54.18957143])"
      ]
     },
     "execution_count": 14,
     "metadata": {},
     "output_type": "execute_result"
    }
   ],
   "source": [
    "df1.mean(axis=0).values.flatten()"
   ]
  },
  {
   "cell_type": "code",
   "execution_count": null,
   "metadata": {},
   "outputs": [
    {
     "name": "stdout",
     "output_type": "stream",
     "text": [
      "\\begin{tabular}{rrrrr}\n",
      "\\toprule\n",
      "24.28 & 16.12 & 79.80 & 84.38 & 86.60 \\\\\n",
      "19.39 &  9.35 & 85.63 & 87.56 & 37.22 \\\\\n",
      " 8.06 &  6.30 & 92.82 & 94.35 & 12.73 \\\\\n",
      " 3.37 & 22.56 & 87.04 & 96.90 & 22.53 \\\\\n",
      " 1.66 & 36.65 & 80.84 & 97.74 & 35.01 \\\\\n",
      " 0.57 & 54.27 & 72.58 & 98.08 & 68.28 \\\\\n",
      " 0.25 & 64.23 & 67.76 & 98.02 & 93.67 \\\\\n",
      "\\bottomrule\n",
      "\\end{tabular}\n",
      "\n"
     ]
    }
   ],
   "source": [
    "df2 = pd.DataFrame(data_loss_formatted[2, :, :])\n",
    "df2.columns = ['fp', 'fn', 'acc', 'f1', 'loss']\n",
    "\n",
    "df_formatted = df2.round(2)\n",
    "\n",
    "# Genera la tabla de LaTeX utilizando el método to_latex()\n",
    "latex_table = df_formatted.to_latex(index=False, header=False)\n",
    "print(latex_table)"
   ]
  },
  {
   "cell_type": "code",
   "execution_count": null,
   "metadata": {},
   "outputs": [
    {
     "data": {
      "text/plain": [
       "array([ 8.23, 29.93, 80.92, 93.86, 50.86])"
      ]
     },
     "execution_count": 16,
     "metadata": {},
     "output_type": "execute_result"
    }
   ],
   "source": [
    "df2.mean(axis=0).values.round(2).flatten()"
   ]
  },
  {
   "cell_type": "code",
   "execution_count": null,
   "metadata": {},
   "outputs": [
    {
     "data": {
      "text/plain": [
       "<matplotlib.image.AxesImage at 0x1d2d226ec80>"
      ]
     },
     "execution_count": 18,
     "metadata": {},
     "output_type": "execute_result"
    },
    {
     "data": {
      "image/png": "[encoded data removed]",
      "text/plain": [
       "<Figure size 432x288 with 1 Axes>"
      ]
     },
     "metadata": {
      "needs_background": "light"
     },
     "output_type": "display_data"
    }
   ],
   "source": [
    "part = list_P[1]\n",
    "c = list_C[1]\n",
    "\n",
    "\n",
    "grid = Grid(x=x, y=y)\n",
    "grid.initialize(part=part, div=c)\n",
    "grid.submatrix()\n",
    "grid.enlargement_process()\n",
    "grid.montecarlo(n_it=100)\n",
    "\n",
    "X = (grid.X[:, :, -1].numpy() != 0)*1\n",
    "Y = (y[:, :, -1] != 0)*1\n",
    "\n",
    "plt.imshow(X-Y)"
   ]
  },
  {
   "cell_type": "code",
   "execution_count": null,
   "metadata": {},
   "outputs": [
    {
     "data": {
      "text/plain": [
       "<AxesSubplot:>"
      ]
     },
     "execution_count": 21,
     "metadata": {},
     "output_type": "execute_result"
    },
    {
     "data": {
      "image/png": "[encoded data removed]",
      "text/plain": [
       "<Figure size 432x288 with 2 Axes>"
      ]
     },
     "metadata": {
      "needs_background": "light"
     },
     "output_type": "display_data"
    }
   ],
   "source": [
    "sns.heatmap(grid.X0[:, :, -1].numpy())"
   ]
  },
  {
   "cell_type": "markdown",
   "metadata": {},
   "source": [
    "# 2. Calculamos todas y cada una de las métricas"
   ]
  },
  {
   "cell_type": "code",
   "execution_count": 7,
   "metadata": {},
   "outputs": [],
   "source": [
    "from sklearn.metrics import confusion_matrix, f1_score, balanced_accuracy_score, fbeta_score, accuracy_score, cohen_kappa_score, matthews_corrcoef"
   ]
  },
  {
   "cell_type": "code",
   "execution_count": 8,
   "metadata": {},
   "outputs": [],
   "source": [
    "Y = (y[:, :, -1] != 0)*1\n",
    "columnas = ['fp', 'fn', 'acc_b', 'acc', 'f0', 'f1', 'f2', 'kappa', 'mcc']"
   ]
  },
  {
   "cell_type": "code",
   "execution_count": 9,
   "metadata": {},
   "outputs": [],
   "source": [
    "data_metrics = np.zeros((len(list_P), len(list_C), 9))\n",
    "for i, part in enumerate(list_P):\n",
    "    for j, c in enumerate(list_C):\n",
    "        \n",
    "        grid = Grid(x=x, y=y)\n",
    "        grid.initialize(part=part, div=c)\n",
    "        grid.submatrix()\n",
    "        grid.enlargement_process()\n",
    "        grid.montecarlo(n_it=100)\n",
    "\n",
    "        X = (grid.X[:, :, -1].numpy() != 0)*1\n",
    "\n",
    "        cmat = confusion_matrix(Y.flatten(), X.flatten(), normalize='true')*100\n",
    "        fp = cmat[0, 1]\n",
    "        fn = cmat[1, 0]\n",
    "        acc_b = balanced_accuracy_score(Y.flatten(), X.flatten())*100\n",
    "        acc = accuracy_score(Y.flatten(), X.flatten())*100\n",
    "        f0 = fbeta_score(Y.flatten(), X.flatten(), beta=0.5)*100\n",
    "        f1 = f1_score(Y.flatten(), X.flatten())*100\n",
    "        f2 = fbeta_score(Y.flatten(), X.flatten(), beta=2)*100\n",
    "        kappa = cohen_kappa_score(Y.flatten(), X.flatten())*100\n",
    "        mcc = matthews_corrcoef(Y.flatten(), X.flatten())*100\n",
    "\n",
    "        data_metrics[i, j, :] = [fp, fn, acc_b, acc, f0, f1, f2, kappa, mcc]\n",
    "\n",
    "    df = pd.DataFrame(data_metrics[i, :, :], columns=columnas).round(2)\n",
    "    df.to_csv('tables\\metrics_part_' + str(i) + '.csv', index=False)"
   ]
  },
  {
   "cell_type": "code",
   "execution_count": 10,
   "metadata": {},
   "outputs": [
    {
     "data": {
      "text/plain": [
       "<AxesSubplot:>"
      ]
     },
     "execution_count": 10,
     "metadata": {},
     "output_type": "execute_result"
    },
    {
     "data": {
      "image/png": "[encoded data removed]",
      "text/plain": [
       "<Figure size 432x288 with 1 Axes>"
      ]
     },
     "metadata": {
      "needs_background": "light"
     },
     "output_type": "display_data"
    }
   ],
   "source": [
    "sns.heatmap(df.values, annot=True, fmt='.2f', cmap='Blues', cbar=False)"
   ]
  },
  {
   "cell_type": "code",
   "execution_count": 11,
   "metadata": {},
   "outputs": [
    {
     "data": {
      "text/plain": [
       "0.623229461756374"
      ]
     },
     "execution_count": 11,
     "metadata": {},
     "output_type": "execute_result"
    }
   ],
   "source": [
    "fbeta_score(Y.flatten(), X.flatten(), beta=0.5)"
   ]
  },
  {
   "cell_type": "markdown",
   "metadata": {},
   "source": [
    "# Evolución"
   ]
  },
  {
   "cell_type": "code",
   "execution_count": 25,
   "metadata": {},
   "outputs": [
    {
     "name": "stderr",
     "output_type": "stream",
     "text": [
      "The PostScript backend does not support transparency; partially transparent artists will be rendered opaque.\n"
     ]
    },
    {
     "data": {
      "image/png": "[encoded data removed]",
      "text/plain": [
       "<Figure size 432x288 with 1 Axes>"
      ]
     },
     "metadata": {
      "needs_background": "light"
     },
     "output_type": "display_data"
    }
   ],
   "source": [
    "grid = Grid(x=x, y=y)\n",
    "grid.initialize(part=list_P[1], div=list_C[1])\n",
    "grid.submatrix()\n",
    "grid.enlargement_process()\n",
    "grid.montecarlo(n_it=100)\n",
    "\n",
    "grid_g = Grid(x=x, y=y, mode='gumbel')\n",
    "grid_g.initialize(part=list_P[1], div=list_C[1])\n",
    "grid_g.submatrix()\n",
    "grid_g.enlargement_process()\n",
    "grid_g.montecarlo(n_it=100)\n",
    "\n",
    "sus_X = np.array([(grid.X[:, :, i] != 0).sum().item() for i in range(grid.X.shape[2])])\n",
    "sus_X_g = np.array([(grid_g.X[:, :, i] != 0).sum().item() for i in range(grid_g.X.shape[2])])\n",
    "sus_y = np.array([(grid.y[:, :, i] != 0).sum().item() for i in range(grid.y.shape[2])])\n",
    "\n",
    "abs_X = range(len(sus_X))\n",
    "abs_y = np.argwhere(x.Train.values == True).flatten()\n",
    "\n",
    "mode = ['Gen ' + str(i) for i in abs_y]\n",
    "values = {\n",
    "    'Bernoulli': sus_X[abs_y],\n",
    "    'Gumbel': sus_X_g[abs_y],\n",
    "    'Real': sus_y\n",
    "}\n",
    "\n",
    "x_ = np.arange(len(mode))  # the label locations\n",
    "width = 0.25  # the width of the bars\n",
    "multiplier = 0\n",
    "\n",
    "fig, ax = plt.subplots(layout='constrained')\n",
    "\n",
    "for attribute, measurement in values.items():\n",
    "    offset = width * multiplier\n",
    "    rects = ax.bar(x_ + offset, measurement, width, label=attribute)\n",
    "    #ax.bar_label(rects, padding=3)\n",
    "    multiplier += 1\n",
    "\n",
    "# Add some text for labels, title and custom x-axis tick labels, etc.\n",
    "ax.set_ylabel('Number of infected or dead cells')\n",
    "ax.set_title('Evolution per generation for ' + r'$\\mathcal{P}_1$')\n",
    "ax.set_xticks(x_ + width, mode)\n",
    "ax.legend(loc='upper left')\n",
    "ax.set_ylim(0, 5000)\n",
    "ax.grid()\n",
    "\n",
    "fig.tight_layout()\n",
    "fig.savefig('figures/evolution_per_generation_p1.png', dpi=1000)\n",
    "fig.savefig('figures/evolution_per_generation_p1.eps', dpi=1000)\n",
    "\n",
    "plt.show()"
   ]
  },
  {
   "cell_type": "code",
   "execution_count": 13,
   "metadata": {},
   "outputs": [
    {
     "data": {
      "text/plain": [
       "[<matplotlib.lines.Line2D at 0x18602102560>]"
      ]
     },
     "execution_count": 13,
     "metadata": {},
     "output_type": "execute_result"
    },
    {
     "data": {
      "image/png": "[encoded data removed]",
      "text/plain": [
       "<Figure size 432x288 with 1 Axes>"
      ]
     },
     "metadata": {
      "needs_background": "light"
     },
     "output_type": "display_data"
    }
   ],
   "source": [
    "plt.plot(sus_X[abs_y] - sus_y)"
   ]
  },
  {
   "cell_type": "code",
   "execution_count": 14,
   "metadata": {},
   "outputs": [
    {
     "data": {
      "text/plain": [
       "array([   0, -168, -290, -422, -598, -251,  359, 1161, 2950])"
      ]
     },
     "execution_count": 14,
     "metadata": {},
     "output_type": "execute_result"
    }
   ],
   "source": [
    "sus_X[abs_y] - sus_y"
   ]
  },
  {
   "cell_type": "code",
   "execution_count": 15,
   "metadata": {},
   "outputs": [],
   "source": [
    "grid = Grid(x=x, y=y)\n",
    "grid.initialize(part=list_P[2], div=2.3)\n",
    "grid.submatrix()\n",
    "grid.enlargement_process()\n",
    "grid.montecarlo(n_it=100)\n",
    "\n",
    "grid_g = Grid(x=x, y=y, mode='gumbel')\n",
    "grid_g.initialize(part=list_P[2], div=2.3)\n",
    "grid_g.submatrix()\n",
    "grid_g.enlargement_process()\n",
    "grid_g.montecarlo(n_it=100)\n",
    "\n",
    "sus_X = np.array([(grid.X[:, :, i] != 0).sum().item() for i in range(grid.X.shape[2])])\n",
    "sus_X_g = np.array([(grid_g.X[:, :, i] != 0).sum().item() for i in range(grid_g.X.shape[2])])\n",
    "sus_y = np.array([(grid.y[:, :, i] != 0).sum().item() for i in range(grid.y.shape[2])])\n",
    "\n",
    "abs_X = range(len(sus_X))\n",
    "abs_y = np.argwhere(x.Train.values == True).flatten()\n",
    "\n",
    "mode = ['Gen ' + str(i) for i in abs_y]\n",
    "values = {\n",
    "    'Bernoulli': sus_X[abs_y],\n",
    "    'Gumbel': sus_X_g[abs_y],\n",
    "    'Real': sus_y\n",
    "}\n",
    "\n",
    "x_ = np.arange(len(mode))  # the label locations\n",
    "width = 0.25  # the width of the bars\n",
    "multiplier = 0\n"
   ]
  },
  {
   "cell_type": "code",
   "execution_count": 16,
   "metadata": {},
   "outputs": [
    {
     "data": {
      "image/png": "[encoded data removed]",
      "text/plain": [
       "<Figure size 432x288 with 1 Axes>"
      ]
     },
     "metadata": {
      "needs_background": "light"
     },
     "output_type": "display_data"
    }
   ],
   "source": [
    "fig, ax = plt.subplots(layout='constrained')\n",
    "\n",
    "for attribute, measurement in values.items():\n",
    "    offset = width * multiplier\n",
    "    rects = ax.bar(x_ + offset, measurement, width, label=attribute)\n",
    "    #ax.bar_label(rects, padding=3)\n",
    "    multiplier += 1\n",
    "\n",
    "\n",
    "# Add some text for labels, title and custom x-axis tick labels, etc.\n",
    "ax.set_ylabel('Number of infected or dead cells')\n",
    "ax.set_title('Evolution per generation')\n",
    "ax.set_xticks(x_ + width, mode)\n",
    "ax.legend(loc='upper left')\n",
    "ax.set_ylim(0, 4000)\n",
    "ax.grid()\n",
    "\n",
    "plt.show()"
   ]
  },
  {
   "cell_type": "code",
   "execution_count": 17,
   "metadata": {},
   "outputs": [
    {
     "data": {
      "text/plain": [
       "array([   0, -177, -338, -507, -729, -550,  -85,  575, 2311])"
      ]
     },
     "execution_count": 17,
     "metadata": {},
     "output_type": "execute_result"
    }
   ],
   "source": [
    "sus_X[abs_y] - sus_y"
   ]
  },
  {
   "cell_type": "markdown",
   "metadata": {},
   "source": [
    "# Dataframes"
   ]
  },
  {
   "cell_type": "code",
   "execution_count": 18,
   "metadata": {},
   "outputs": [
    {
     "ename": "FileNotFoundError",
     "evalue": "[Errno 2] No such file or directory: 'metrics_part_0.csv'",
     "output_type": "error",
     "traceback": [
      "\u001b[1;31m---------------------------------------------------------------------------\u001b[0m",
      "\u001b[1;31mFileNotFoundError\u001b[0m                         Traceback (most recent call last)",
      "\u001b[1;32mc:\\Users\\joanb\\Desktop\\Results_paper\\00_2_baseline_table.ipynb Cell 36\u001b[0m in \u001b[0;36m<cell line: 1>\u001b[1;34m()\u001b[0m\n\u001b[1;32m----> <a href='vscode-notebook-cell:/c%3A/Users/joanb/Desktop/Results_paper/00_2_baseline_table.ipynb#X50sZmlsZQ%3D%3D?line=0'>1</a>\u001b[0m df1 \u001b[39m=\u001b[39m pd\u001b[39m.\u001b[39;49mread_csv(\u001b[39m'\u001b[39;49m\u001b[39mmetrics_part_0.csv\u001b[39;49m\u001b[39m'\u001b[39;49m)\n\u001b[0;32m      <a href='vscode-notebook-cell:/c%3A/Users/joanb/Desktop/Results_paper/00_2_baseline_table.ipynb#X50sZmlsZQ%3D%3D?line=1'>2</a>\u001b[0m df2 \u001b[39m=\u001b[39m pd\u001b[39m.\u001b[39mread_csv(\u001b[39m'\u001b[39m\u001b[39mmetrics_part_1.csv\u001b[39m\u001b[39m'\u001b[39m)\n\u001b[0;32m      <a href='vscode-notebook-cell:/c%3A/Users/joanb/Desktop/Results_paper/00_2_baseline_table.ipynb#X50sZmlsZQ%3D%3D?line=2'>3</a>\u001b[0m df3 \u001b[39m=\u001b[39m pd\u001b[39m.\u001b[39mread_csv(\u001b[39m'\u001b[39m\u001b[39mmetrics_part_2.csv\u001b[39m\u001b[39m'\u001b[39m)\n",
      "File \u001b[1;32mc:\\Users\\joanb\\AppData\\Local\\Programs\\Python\\Python310\\lib\\site-packages\\pandas\\util\\_decorators.py:311\u001b[0m, in \u001b[0;36mdeprecate_nonkeyword_arguments.<locals>.decorate.<locals>.wrapper\u001b[1;34m(*args, **kwargs)\u001b[0m\n\u001b[0;32m    305\u001b[0m \u001b[39mif\u001b[39;00m \u001b[39mlen\u001b[39m(args) \u001b[39m>\u001b[39m num_allow_args:\n\u001b[0;32m    306\u001b[0m     warnings\u001b[39m.\u001b[39mwarn(\n\u001b[0;32m    307\u001b[0m         msg\u001b[39m.\u001b[39mformat(arguments\u001b[39m=\u001b[39marguments),\n\u001b[0;32m    308\u001b[0m         \u001b[39mFutureWarning\u001b[39;00m,\n\u001b[0;32m    309\u001b[0m         stacklevel\u001b[39m=\u001b[39mstacklevel,\n\u001b[0;32m    310\u001b[0m     )\n\u001b[1;32m--> 311\u001b[0m \u001b[39mreturn\u001b[39;00m func(\u001b[39m*\u001b[39margs, \u001b[39m*\u001b[39m\u001b[39m*\u001b[39mkwargs)\n",
      "File \u001b[1;32mc:\\Users\\joanb\\AppData\\Local\\Programs\\Python\\Python310\\lib\\site-packages\\pandas\\io\\parsers\\readers.py:680\u001b[0m, in \u001b[0;36mread_csv\u001b[1;34m(filepath_or_buffer, sep, delimiter, header, names, index_col, usecols, squeeze, prefix, mangle_dupe_cols, dtype, engine, converters, true_values, false_values, skipinitialspace, skiprows, skipfooter, nrows, na_values, keep_default_na, na_filter, verbose, skip_blank_lines, parse_dates, infer_datetime_format, keep_date_col, date_parser, dayfirst, cache_dates, iterator, chunksize, compression, thousands, decimal, lineterminator, quotechar, quoting, doublequote, escapechar, comment, encoding, encoding_errors, dialect, error_bad_lines, warn_bad_lines, on_bad_lines, delim_whitespace, low_memory, memory_map, float_precision, storage_options)\u001b[0m\n\u001b[0;32m    665\u001b[0m kwds_defaults \u001b[39m=\u001b[39m _refine_defaults_read(\n\u001b[0;32m    666\u001b[0m     dialect,\n\u001b[0;32m    667\u001b[0m     delimiter,\n\u001b[1;32m   (...)\u001b[0m\n\u001b[0;32m    676\u001b[0m     defaults\u001b[39m=\u001b[39m{\u001b[39m\"\u001b[39m\u001b[39mdelimiter\u001b[39m\u001b[39m\"\u001b[39m: \u001b[39m\"\u001b[39m\u001b[39m,\u001b[39m\u001b[39m\"\u001b[39m},\n\u001b[0;32m    677\u001b[0m )\n\u001b[0;32m    678\u001b[0m kwds\u001b[39m.\u001b[39mupdate(kwds_defaults)\n\u001b[1;32m--> 680\u001b[0m \u001b[39mreturn\u001b[39;00m _read(filepath_or_buffer, kwds)\n",
      "File \u001b[1;32mc:\\Users\\joanb\\AppData\\Local\\Programs\\Python\\Python310\\lib\\site-packages\\pandas\\io\\parsers\\readers.py:575\u001b[0m, in \u001b[0;36m_read\u001b[1;34m(filepath_or_buffer, kwds)\u001b[0m\n\u001b[0;32m    572\u001b[0m _validate_names(kwds\u001b[39m.\u001b[39mget(\u001b[39m\"\u001b[39m\u001b[39mnames\u001b[39m\u001b[39m\"\u001b[39m, \u001b[39mNone\u001b[39;00m))\n\u001b[0;32m    574\u001b[0m \u001b[39m# Create the parser.\u001b[39;00m\n\u001b[1;32m--> 575\u001b[0m parser \u001b[39m=\u001b[39m TextFileReader(filepath_or_buffer, \u001b[39m*\u001b[39m\u001b[39m*\u001b[39mkwds)\n\u001b[0;32m    577\u001b[0m \u001b[39mif\u001b[39;00m chunksize \u001b[39mor\u001b[39;00m iterator:\n\u001b[0;32m    578\u001b[0m     \u001b[39mreturn\u001b[39;00m parser\n",
      "File \u001b[1;32mc:\\Users\\joanb\\AppData\\Local\\Programs\\Python\\Python310\\lib\\site-packages\\pandas\\io\\parsers\\readers.py:933\u001b[0m, in \u001b[0;36mTextFileReader.__init__\u001b[1;34m(self, f, engine, **kwds)\u001b[0m\n\u001b[0;32m    930\u001b[0m     \u001b[39mself\u001b[39m\u001b[39m.\u001b[39moptions[\u001b[39m\"\u001b[39m\u001b[39mhas_index_names\u001b[39m\u001b[39m\"\u001b[39m] \u001b[39m=\u001b[39m kwds[\u001b[39m\"\u001b[39m\u001b[39mhas_index_names\u001b[39m\u001b[39m\"\u001b[39m]\n\u001b[0;32m    932\u001b[0m \u001b[39mself\u001b[39m\u001b[39m.\u001b[39mhandles: IOHandles \u001b[39m|\u001b[39m \u001b[39mNone\u001b[39;00m \u001b[39m=\u001b[39m \u001b[39mNone\u001b[39;00m\n\u001b[1;32m--> 933\u001b[0m \u001b[39mself\u001b[39m\u001b[39m.\u001b[39m_engine \u001b[39m=\u001b[39m \u001b[39mself\u001b[39;49m\u001b[39m.\u001b[39;49m_make_engine(f, \u001b[39mself\u001b[39;49m\u001b[39m.\u001b[39;49mengine)\n",
      "File \u001b[1;32mc:\\Users\\joanb\\AppData\\Local\\Programs\\Python\\Python310\\lib\\site-packages\\pandas\\io\\parsers\\readers.py:1217\u001b[0m, in \u001b[0;36mTextFileReader._make_engine\u001b[1;34m(self, f, engine)\u001b[0m\n\u001b[0;32m   1213\u001b[0m     mode \u001b[39m=\u001b[39m \u001b[39m\"\u001b[39m\u001b[39mrb\u001b[39m\u001b[39m\"\u001b[39m\n\u001b[0;32m   1214\u001b[0m \u001b[39m# error: No overload variant of \"get_handle\" matches argument types\u001b[39;00m\n\u001b[0;32m   1215\u001b[0m \u001b[39m# \"Union[str, PathLike[str], ReadCsvBuffer[bytes], ReadCsvBuffer[str]]\"\u001b[39;00m\n\u001b[0;32m   1216\u001b[0m \u001b[39m# , \"str\", \"bool\", \"Any\", \"Any\", \"Any\", \"Any\", \"Any\"\u001b[39;00m\n\u001b[1;32m-> 1217\u001b[0m \u001b[39mself\u001b[39m\u001b[39m.\u001b[39mhandles \u001b[39m=\u001b[39m get_handle(  \u001b[39m# type: ignore[call-overload]\u001b[39;49;00m\n\u001b[0;32m   1218\u001b[0m     f,\n\u001b[0;32m   1219\u001b[0m     mode,\n\u001b[0;32m   1220\u001b[0m     encoding\u001b[39m=\u001b[39;49m\u001b[39mself\u001b[39;49m\u001b[39m.\u001b[39;49moptions\u001b[39m.\u001b[39;49mget(\u001b[39m\"\u001b[39;49m\u001b[39mencoding\u001b[39;49m\u001b[39m\"\u001b[39;49m, \u001b[39mNone\u001b[39;49;00m),\n\u001b[0;32m   1221\u001b[0m     compression\u001b[39m=\u001b[39;49m\u001b[39mself\u001b[39;49m\u001b[39m.\u001b[39;49moptions\u001b[39m.\u001b[39;49mget(\u001b[39m\"\u001b[39;49m\u001b[39mcompression\u001b[39;49m\u001b[39m\"\u001b[39;49m, \u001b[39mNone\u001b[39;49;00m),\n\u001b[0;32m   1222\u001b[0m     memory_map\u001b[39m=\u001b[39;49m\u001b[39mself\u001b[39;49m\u001b[39m.\u001b[39;49moptions\u001b[39m.\u001b[39;49mget(\u001b[39m\"\u001b[39;49m\u001b[39mmemory_map\u001b[39;49m\u001b[39m\"\u001b[39;49m, \u001b[39mFalse\u001b[39;49;00m),\n\u001b[0;32m   1223\u001b[0m     is_text\u001b[39m=\u001b[39;49mis_text,\n\u001b[0;32m   1224\u001b[0m     errors\u001b[39m=\u001b[39;49m\u001b[39mself\u001b[39;49m\u001b[39m.\u001b[39;49moptions\u001b[39m.\u001b[39;49mget(\u001b[39m\"\u001b[39;49m\u001b[39mencoding_errors\u001b[39;49m\u001b[39m\"\u001b[39;49m, \u001b[39m\"\u001b[39;49m\u001b[39mstrict\u001b[39;49m\u001b[39m\"\u001b[39;49m),\n\u001b[0;32m   1225\u001b[0m     storage_options\u001b[39m=\u001b[39;49m\u001b[39mself\u001b[39;49m\u001b[39m.\u001b[39;49moptions\u001b[39m.\u001b[39;49mget(\u001b[39m\"\u001b[39;49m\u001b[39mstorage_options\u001b[39;49m\u001b[39m\"\u001b[39;49m, \u001b[39mNone\u001b[39;49;00m),\n\u001b[0;32m   1226\u001b[0m )\n\u001b[0;32m   1227\u001b[0m \u001b[39massert\u001b[39;00m \u001b[39mself\u001b[39m\u001b[39m.\u001b[39mhandles \u001b[39mis\u001b[39;00m \u001b[39mnot\u001b[39;00m \u001b[39mNone\u001b[39;00m\n\u001b[0;32m   1228\u001b[0m f \u001b[39m=\u001b[39m \u001b[39mself\u001b[39m\u001b[39m.\u001b[39mhandles\u001b[39m.\u001b[39mhandle\n",
      "File \u001b[1;32mc:\\Users\\joanb\\AppData\\Local\\Programs\\Python\\Python310\\lib\\site-packages\\pandas\\io\\common.py:789\u001b[0m, in \u001b[0;36mget_handle\u001b[1;34m(path_or_buf, mode, encoding, compression, memory_map, is_text, errors, storage_options)\u001b[0m\n\u001b[0;32m    784\u001b[0m \u001b[39melif\u001b[39;00m \u001b[39misinstance\u001b[39m(handle, \u001b[39mstr\u001b[39m):\n\u001b[0;32m    785\u001b[0m     \u001b[39m# Check whether the filename is to be opened in binary mode.\u001b[39;00m\n\u001b[0;32m    786\u001b[0m     \u001b[39m# Binary mode does not support 'encoding' and 'newline'.\u001b[39;00m\n\u001b[0;32m    787\u001b[0m     \u001b[39mif\u001b[39;00m ioargs\u001b[39m.\u001b[39mencoding \u001b[39mand\u001b[39;00m \u001b[39m\"\u001b[39m\u001b[39mb\u001b[39m\u001b[39m\"\u001b[39m \u001b[39mnot\u001b[39;00m \u001b[39min\u001b[39;00m ioargs\u001b[39m.\u001b[39mmode:\n\u001b[0;32m    788\u001b[0m         \u001b[39m# Encoding\u001b[39;00m\n\u001b[1;32m--> 789\u001b[0m         handle \u001b[39m=\u001b[39m \u001b[39mopen\u001b[39;49m(\n\u001b[0;32m    790\u001b[0m             handle,\n\u001b[0;32m    791\u001b[0m             ioargs\u001b[39m.\u001b[39;49mmode,\n\u001b[0;32m    792\u001b[0m             encoding\u001b[39m=\u001b[39;49mioargs\u001b[39m.\u001b[39;49mencoding,\n\u001b[0;32m    793\u001b[0m             errors\u001b[39m=\u001b[39;49merrors,\n\u001b[0;32m    794\u001b[0m             newline\u001b[39m=\u001b[39;49m\u001b[39m\"\u001b[39;49m\u001b[39m\"\u001b[39;49m,\n\u001b[0;32m    795\u001b[0m         )\n\u001b[0;32m    796\u001b[0m     \u001b[39melse\u001b[39;00m:\n\u001b[0;32m    797\u001b[0m         \u001b[39m# Binary mode\u001b[39;00m\n\u001b[0;32m    798\u001b[0m         handle \u001b[39m=\u001b[39m \u001b[39mopen\u001b[39m(handle, ioargs\u001b[39m.\u001b[39mmode)\n",
      "\u001b[1;31mFileNotFoundError\u001b[0m: [Errno 2] No such file or directory: 'metrics_part_0.csv'"
     ]
    }
   ],
   "source": [
    "df1 = pd.read_csv('metrics_part_0.csv')\n",
    "df2 = pd.read_csv('metrics_part_1.csv')\n",
    "df3 = pd.read_csv('metrics_part_2.csv')"
   ]
  },
  {
   "cell_type": "code",
   "execution_count": null,
   "metadata": {},
   "outputs": [],
   "source": [
    "latex_table1 = df1.to_latex(index=False, header=False)\n",
    "latex_table2 = df2.to_latex(index=False, header=False)\n",
    "latex_table3 = df3.to_latex(index=False, header=False)"
   ]
  },
  {
   "cell_type": "code",
   "execution_count": null,
   "metadata": {},
   "outputs": [
    {
     "name": "stdout",
     "output_type": "stream",
     "text": [
      "\\begin{tabular}{rrrrrrrrr}\n",
      "\\toprule\n",
      "1.59 & 39.23 & 79.59 & 97.57 & 48.88 & 52.75 & 57.29 & 51.52 & 52.00 \\\\\n",
      "1.35 & 39.43 & 79.61 & 97.80 & 52.32 & 55.13 & 58.27 & 54.01 & 54.24 \\\\\n",
      "0.92 & 45.19 & 76.95 & 98.09 & 57.07 & 56.20 & 55.36 & 55.22 & 55.24 \\\\\n",
      "0.63 & 51.22 & 74.08 & 98.24 & 60.24 & 55.36 & 51.22 & 54.48 & 55.01 \\\\\n",
      "0.44 & 56.10 & 71.73 & 98.31 & 62.16 & 53.78 & 47.38 & 52.96 & 54.41 \\\\\n",
      "0.24 & 64.09 & 67.84 & 98.34 & 63.04 & 49.12 & 40.24 & 48.39 & 52.16 \\\\\n",
      "0.15 & 69.58 & 65.13 & 98.30 & 61.27 & 44.39 & 34.80 & 43.71 & 49.37 \\\\\n",
      "\\bottomrule\n",
      "\\end{tabular}\n",
      "\n"
     ]
    }
   ],
   "source": [
    "print(latex_table1)"
   ]
  },
  {
   "cell_type": "code",
   "execution_count": null,
   "metadata": {},
   "outputs": [
    {
     "data": {
      "text/plain": [
       "array([ 0.99, 46.23, 76.39, 98.  , 56.13, 54.64, 53.9 , 53.64, 54.18])"
      ]
     },
     "execution_count": 37,
     "metadata": {},
     "output_type": "execute_result"
    }
   ],
   "source": [
    "df1 = df1.iloc[:-2]\n",
    "df2 = df2.iloc[:-2]\n",
    "df3 = df3.iloc[:-2]"
   ]
  },
  {
   "cell_type": "code",
   "execution_count": null,
   "metadata": {},
   "outputs": [
    {
     "name": "stdout",
     "output_type": "stream",
     "text": [
      "\\begin{tabular}{r}\n",
      "\\toprule\n",
      "11.35 \\\\\n",
      "18.20 \\\\\n",
      "85.23 \\\\\n",
      "88.49 \\\\\n",
      "26.69 \\\\\n",
      "33.31 \\\\\n",
      "47.47 \\\\\n",
      "30.80 \\\\\n",
      "38.30 \\\\\n",
      "\\bottomrule\n",
      "\\end{tabular}\n",
      "\n"
     ]
    }
   ],
   "source": [
    "print(df3.mean(axis=0).round(2).to_latex(index=False, header=False))"
   ]
  },
  {
   "cell_type": "code",
   "execution_count": null,
   "metadata": {},
   "outputs": [
    {
     "name": "stdout",
     "output_type": "stream",
     "text": [
      "\\begin{tabular}{rrrrrrrrr}\n",
      "\\toprule\n",
      "24.28 & 16.12 & 79.80 & 75.90 &  8.95 & 13.46 & 27.12 &  9.75 & 20.18 \\\\\n",
      "19.39 &  9.35 & 85.63 & 80.84 & 11.76 & 17.45 & 33.85 & 13.98 & 25.87 \\\\\n",
      " 8.06 &  6.30 & 92.82 & 91.98 & 24.85 & 34.30 & 55.35 & 31.81 & 42.24 \\\\\n",
      " 3.37 & 22.56 & 87.04 & 96.20 & 38.75 & 47.68 & 61.97 & 46.01 & 50.12 \\\\\n",
      " 1.66 & 36.65 & 80.84 & 97.55 & 49.15 & 53.66 & 59.08 & 52.43 & 53.09 \\\\\n",
      "\\bottomrule\n",
      "\\end{tabular}\n",
      "\n"
     ]
    }
   ],
   "source": [
    "print(df3.to_latex(index=False, header=False))"
   ]
  },
  {
   "cell_type": "code",
   "execution_count": null,
   "metadata": {},
   "outputs": [
    {
     "data": {
      "text/html": [
       "<div>\n",
       "<style scoped>\n",
       "    .dataframe tbody tr th:only-of-type {\n",
       "        vertical-align: middle;\n",
       "    }\n",
       "\n",
       "    .dataframe tbody tr th {\n",
       "        vertical-align: top;\n",
       "    }\n",
       "\n",
       "    .dataframe thead th {\n",
       "        text-align: right;\n",
       "    }\n",
       "</style>\n",
       "<table border=\"1\" class=\"dataframe\">\n",
       "  <thead>\n",
       "    <tr style=\"text-align: right;\">\n",
       "      <th></th>\n",
       "      <th>fp</th>\n",
       "      <th>fn</th>\n",
       "      <th>acc_b</th>\n",
       "      <th>acc</th>\n",
       "      <th>f0</th>\n",
       "      <th>f1</th>\n",
       "      <th>f2</th>\n",
       "      <th>kappa</th>\n",
       "      <th>mcc</th>\n",
       "    </tr>\n",
       "  </thead>\n",
       "  <tbody>\n",
       "    <tr>\n",
       "      <th>0</th>\n",
       "      <td>24.28</td>\n",
       "      <td>16.12</td>\n",
       "      <td>79.80</td>\n",
       "      <td>75.90</td>\n",
       "      <td>8.95</td>\n",
       "      <td>13.46</td>\n",
       "      <td>27.12</td>\n",
       "      <td>9.75</td>\n",
       "      <td>20.18</td>\n",
       "    </tr>\n",
       "    <tr>\n",
       "      <th>1</th>\n",
       "      <td>19.39</td>\n",
       "      <td>9.35</td>\n",
       "      <td>85.63</td>\n",
       "      <td>80.84</td>\n",
       "      <td>11.76</td>\n",
       "      <td>17.45</td>\n",
       "      <td>33.85</td>\n",
       "      <td>13.98</td>\n",
       "      <td>25.87</td>\n",
       "    </tr>\n",
       "    <tr>\n",
       "      <th>2</th>\n",
       "      <td>8.06</td>\n",
       "      <td>6.30</td>\n",
       "      <td>92.82</td>\n",
       "      <td>91.98</td>\n",
       "      <td>24.85</td>\n",
       "      <td>34.30</td>\n",
       "      <td>55.35</td>\n",
       "      <td>31.81</td>\n",
       "      <td>42.24</td>\n",
       "    </tr>\n",
       "    <tr>\n",
       "      <th>3</th>\n",
       "      <td>3.37</td>\n",
       "      <td>22.56</td>\n",
       "      <td>87.04</td>\n",
       "      <td>96.20</td>\n",
       "      <td>38.75</td>\n",
       "      <td>47.68</td>\n",
       "      <td>61.97</td>\n",
       "      <td>46.01</td>\n",
       "      <td>50.12</td>\n",
       "    </tr>\n",
       "    <tr>\n",
       "      <th>4</th>\n",
       "      <td>1.66</td>\n",
       "      <td>36.65</td>\n",
       "      <td>80.84</td>\n",
       "      <td>97.55</td>\n",
       "      <td>49.15</td>\n",
       "      <td>53.66</td>\n",
       "      <td>59.08</td>\n",
       "      <td>52.43</td>\n",
       "      <td>53.09</td>\n",
       "    </tr>\n",
       "  </tbody>\n",
       "</table>\n",
       "</div>"
      ],
      "text/plain": [
       "      fp     fn  acc_b    acc     f0     f1     f2  kappa    mcc\n",
       "0  24.28  16.12  79.80  75.90   8.95  13.46  27.12   9.75  20.18\n",
       "1  19.39   9.35  85.63  80.84  11.76  17.45  33.85  13.98  25.87\n",
       "2   8.06   6.30  92.82  91.98  24.85  34.30  55.35  31.81  42.24\n",
       "3   3.37  22.56  87.04  96.20  38.75  47.68  61.97  46.01  50.12\n",
       "4   1.66  36.65  80.84  97.55  49.15  53.66  59.08  52.43  53.09"
      ]
     },
     "execution_count": 48,
     "metadata": {},
     "output_type": "execute_result"
    }
   ],
   "source": [
    "df3"
   ]
  }
 ],
 "metadata": {
  "kernelspec": {
   "display_name": "Python 3",
   "language": "python",
   "name": "python3"
  },
  "language_info": {
   "codemirror_mode": {
    "name": "ipython",
    "version": 3
   },
   "file_extension": ".py",
   "mimetype": "text/x-python",
   "name": "python",
   "nbconvert_exporter": "python",
   "pygments_lexer": "ipython3",
   "version": "3.10.4"
  },
  "orig_nbformat": 4
 },
 "nbformat": 4,
 "nbformat_minor": 2
}
